{
 "cells": [
  {
   "cell_type": "markdown",
   "id": "368bcc85",
   "metadata": {},
   "source": [
    "# Loading"
   ]
  },
  {
   "cell_type": "code",
   "execution_count": 1,
   "id": "77245923",
   "metadata": {},
   "outputs": [],
   "source": [
    "import pandas as pd"
   ]
  },
  {
   "cell_type": "code",
   "execution_count": 2,
   "id": "d304a803",
   "metadata": {},
   "outputs": [],
   "source": [
    "import os\n",
    "data_dir = \"./data\"\n",
    "csv_names = [\"companies.csv\", \"contacts.csv\", \"eng.csv\"]\n",
    "companies_csv_path, contacts_csv_path, eng_csv_path =  (os.path.join(data_dir, csv_name) for csv_name in csv_names)"
   ]
  },
  {
   "cell_type": "code",
   "execution_count": 9,
   "id": "8c9bb92c",
   "metadata": {},
   "outputs": [],
   "source": [
    "from enum import Enum\n",
    "class DataCategories(Enum):\n",
    "    COMPANIES = 1\n",
    "    CONTACTS = 2\n",
    "    ENGAGEMENTS = 3\n",
    "\n",
    "category_to_df = {\n",
    "    DataCategories.COMPANIES: pd.read_csv(companies_csv_path),\n",
    "    DataCategories.CONTACTS: pd.read_csv(contacts_csv_path),\n",
    "    DataCategories.ENGAGEMENTS: pd.read_csv(eng_csv_path)\n",
    "}\n",
    "\n",
    "companies_df, contacts_df, engagements_df = category_to_df[DataCategories.COMPANIES], category_to_df[DataCategories.CONTACTS], category_to_df[DataCategories.ENGAGEMENTS]"
   ]
  },
  {
   "cell_type": "markdown",
   "id": "a3bf72b6",
   "metadata": {},
   "source": [
    "# Preview"
   ]
  },
  {
   "cell_type": "code",
   "execution_count": 6,
   "id": "a45ec6a5",
   "metadata": {
    "scrolled": true
   },
   "outputs": [
    {
     "data": {
      "text/html": [
       "<div>\n",
       "<style scoped>\n",
       "    .dataframe tbody tr th:only-of-type {\n",
       "        vertical-align: middle;\n",
       "    }\n",
       "\n",
       "    .dataframe tbody tr th {\n",
       "        vertical-align: top;\n",
       "    }\n",
       "\n",
       "    .dataframe thead th {\n",
       "        text-align: right;\n",
       "    }\n",
       "</style>\n",
       "<table border=\"1\" class=\"dataframe\">\n",
       "  <thead>\n",
       "    <tr style=\"text-align: right;\">\n",
       "      <th></th>\n",
       "      <th>company_id</th>\n",
       "      <th>size</th>\n",
       "      <th>linkedin_industry</th>\n",
       "    </tr>\n",
       "  </thead>\n",
       "  <tbody>\n",
       "    <tr>\n",
       "      <th>0</th>\n",
       "      <td>0000fefd-9483-4bea-8afd-7317c1524e4c</td>\n",
       "      <td>501-1,000</td>\n",
       "      <td>Mechanical or Industrial Engineering</td>\n",
       "    </tr>\n",
       "    <tr>\n",
       "      <th>1</th>\n",
       "      <td>0008e6fd-1afa-437b-b13a-7af7c20cbe7d</td>\n",
       "      <td>51-200</td>\n",
       "      <td>Oil &amp; Energy</td>\n",
       "    </tr>\n",
       "    <tr>\n",
       "      <th>2</th>\n",
       "      <td>00123943-711c-431c-bcdb-70b392243892</td>\n",
       "      <td>1,001-5,000</td>\n",
       "      <td>Plastics</td>\n",
       "    </tr>\n",
       "    <tr>\n",
       "      <th>3</th>\n",
       "      <td>001c539b-a1b6-4488-865a-2dbeff9274a5</td>\n",
       "      <td>10,000+</td>\n",
       "      <td>Retail</td>\n",
       "    </tr>\n",
       "    <tr>\n",
       "      <th>4</th>\n",
       "      <td>001cc3be-2172-41e5-9cdc-1bb478c17252</td>\n",
       "      <td>1,001-5,000</td>\n",
       "      <td>Oil &amp; Energy</td>\n",
       "    </tr>\n",
       "  </tbody>\n",
       "</table>\n",
       "</div>"
      ],
      "text/plain": [
       "                             company_id         size  \\\n",
       "0  0000fefd-9483-4bea-8afd-7317c1524e4c    501-1,000   \n",
       "1  0008e6fd-1afa-437b-b13a-7af7c20cbe7d       51-200   \n",
       "2  00123943-711c-431c-bcdb-70b392243892  1,001-5,000   \n",
       "3  001c539b-a1b6-4488-865a-2dbeff9274a5      10,000+   \n",
       "4  001cc3be-2172-41e5-9cdc-1bb478c17252  1,001-5,000   \n",
       "\n",
       "                      linkedin_industry  \n",
       "0  Mechanical or Industrial Engineering  \n",
       "1                          Oil & Energy  \n",
       "2                              Plastics  \n",
       "3                                Retail  \n",
       "4                          Oil & Energy  "
      ]
     },
     "execution_count": 6,
     "metadata": {},
     "output_type": "execute_result"
    }
   ],
   "source": [
    "companies_df.head()"
   ]
  },
  {
   "cell_type": "code",
   "execution_count": 10,
   "id": "dd931c46",
   "metadata": {
    "scrolled": true
   },
   "outputs": [
    {
     "data": {
      "text/html": [
       "<div>\n",
       "<style scoped>\n",
       "    .dataframe tbody tr th:only-of-type {\n",
       "        vertical-align: middle;\n",
       "    }\n",
       "\n",
       "    .dataframe tbody tr th {\n",
       "        vertical-align: top;\n",
       "    }\n",
       "\n",
       "    .dataframe thead th {\n",
       "        text-align: right;\n",
       "    }\n",
       "</style>\n",
       "<table border=\"1\" class=\"dataframe\">\n",
       "  <thead>\n",
       "    <tr style=\"text-align: right;\">\n",
       "      <th></th>\n",
       "      <th>contact_id</th>\n",
       "      <th>position</th>\n",
       "      <th>seniority</th>\n",
       "      <th>function</th>\n",
       "      <th>company_id</th>\n",
       "      <th>country</th>\n",
       "      <th>state</th>\n",
       "    </tr>\n",
       "  </thead>\n",
       "  <tbody>\n",
       "    <tr>\n",
       "      <th>0</th>\n",
       "      <td>0005ab2d-a790-44ce-8887-a571fca64d80</td>\n",
       "      <td>Chief Information Officer</td>\n",
       "      <td>CXO</td>\n",
       "      <td>IT</td>\n",
       "      <td>202f7f5a-1f0c-4924-9e4a-5100a15962cc</td>\n",
       "      <td>ca</td>\n",
       "      <td>ca-on</td>\n",
       "    </tr>\n",
       "    <tr>\n",
       "      <th>1</th>\n",
       "      <td>000d665c-7325-4b0f-a4d1-16c7c4c5b4b3</td>\n",
       "      <td>Vice President - Global Supply Chain and Human...</td>\n",
       "      <td>VP</td>\n",
       "      <td>HR</td>\n",
       "      <td>c592a266-a358-45dd-97ae-32a82db94d11</td>\n",
       "      <td>NaN</td>\n",
       "      <td>NaN</td>\n",
       "    </tr>\n",
       "    <tr>\n",
       "      <th>2</th>\n",
       "      <td>001b469f-d7cb-4c00-91c4-f14657febd8d</td>\n",
       "      <td>Director of Human Resources</td>\n",
       "      <td>Director</td>\n",
       "      <td>HR</td>\n",
       "      <td>51de6cc1-aac2-441f-bce0-6a468a284d29</td>\n",
       "      <td>NaN</td>\n",
       "      <td>NaN</td>\n",
       "    </tr>\n",
       "    <tr>\n",
       "      <th>3</th>\n",
       "      <td>0020badd-2a0b-4b47-a355-61724a954f85</td>\n",
       "      <td>Vice President, Human Resource Operations</td>\n",
       "      <td>VP</td>\n",
       "      <td>HR,Operations</td>\n",
       "      <td>13317617-14e2-4e4c-a1be-0623e0094dcb</td>\n",
       "      <td>us</td>\n",
       "      <td>ny</td>\n",
       "    </tr>\n",
       "    <tr>\n",
       "      <th>4</th>\n",
       "      <td>0026d482-3e6e-4619-995b-e5b15e88b214</td>\n",
       "      <td>Benefit Manager</td>\n",
       "      <td>Manager</td>\n",
       "      <td>Benefits</td>\n",
       "      <td>0b3a713b-94f9-4521-9449-dcf27243f468</td>\n",
       "      <td>us</td>\n",
       "      <td>fl</td>\n",
       "    </tr>\n",
       "  </tbody>\n",
       "</table>\n",
       "</div>"
      ],
      "text/plain": [
       "                             contact_id  \\\n",
       "0  0005ab2d-a790-44ce-8887-a571fca64d80   \n",
       "1  000d665c-7325-4b0f-a4d1-16c7c4c5b4b3   \n",
       "2  001b469f-d7cb-4c00-91c4-f14657febd8d   \n",
       "3  0020badd-2a0b-4b47-a355-61724a954f85   \n",
       "4  0026d482-3e6e-4619-995b-e5b15e88b214   \n",
       "\n",
       "                                            position seniority       function  \\\n",
       "0                          Chief Information Officer       CXO             IT   \n",
       "1  Vice President - Global Supply Chain and Human...        VP             HR   \n",
       "2                        Director of Human Resources  Director             HR   \n",
       "3          Vice President, Human Resource Operations        VP  HR,Operations   \n",
       "4                                    Benefit Manager   Manager       Benefits   \n",
       "\n",
       "                             company_id country  state  \n",
       "0  202f7f5a-1f0c-4924-9e4a-5100a15962cc      ca  ca-on  \n",
       "1  c592a266-a358-45dd-97ae-32a82db94d11     NaN    NaN  \n",
       "2  51de6cc1-aac2-441f-bce0-6a468a284d29     NaN    NaN  \n",
       "3  13317617-14e2-4e4c-a1be-0623e0094dcb      us     ny  \n",
       "4  0b3a713b-94f9-4521-9449-dcf27243f468      us     fl  "
      ]
     },
     "execution_count": 10,
     "metadata": {},
     "output_type": "execute_result"
    }
   ],
   "source": [
    "contacts_df.head()"
   ]
  },
  {
   "cell_type": "code",
   "execution_count": 11,
   "id": "96d7d29b",
   "metadata": {},
   "outputs": [
    {
     "data": {
      "text/html": [
       "<div>\n",
       "<style scoped>\n",
       "    .dataframe tbody tr th:only-of-type {\n",
       "        vertical-align: middle;\n",
       "    }\n",
       "\n",
       "    .dataframe tbody tr th {\n",
       "        vertical-align: top;\n",
       "    }\n",
       "\n",
       "    .dataframe thead th {\n",
       "        text-align: right;\n",
       "    }\n",
       "</style>\n",
       "<table border=\"1\" class=\"dataframe\">\n",
       "  <thead>\n",
       "    <tr style=\"text-align: right;\">\n",
       "      <th></th>\n",
       "      <th>contact_id</th>\n",
       "      <th>campaign_id</th>\n",
       "      <th>email_id</th>\n",
       "      <th>timestamp</th>\n",
       "      <th>event</th>\n",
       "    </tr>\n",
       "  </thead>\n",
       "  <tbody>\n",
       "    <tr>\n",
       "      <th>0</th>\n",
       "      <td>0005ab2d-a790-44ce-8887-a571fca64d80</td>\n",
       "      <td>a0d6c864-e82d-437c-a3de-9950070223a1</td>\n",
       "      <td>f688553a-8788-48cf-bf9e-24b1c22e4d7c</td>\n",
       "      <td>2020-07-09 01:52:22</td>\n",
       "      <td>delivered</td>\n",
       "    </tr>\n",
       "    <tr>\n",
       "      <th>1</th>\n",
       "      <td>0005ab2d-a790-44ce-8887-a571fca64d80</td>\n",
       "      <td>a0d6c864-e82d-437c-a3de-9950070223a1</td>\n",
       "      <td>bd4f138b-90f6-4fbc-9f41-16dc72f95352</td>\n",
       "      <td>2020-07-03 00:13:42</td>\n",
       "      <td>open</td>\n",
       "    </tr>\n",
       "    <tr>\n",
       "      <th>2</th>\n",
       "      <td>0005ab2d-a790-44ce-8887-a571fca64d80</td>\n",
       "      <td>a0d6c864-e82d-437c-a3de-9950070223a1</td>\n",
       "      <td>bd4f138b-90f6-4fbc-9f41-16dc72f95352</td>\n",
       "      <td>2020-07-03 00:08:54</td>\n",
       "      <td>delivered</td>\n",
       "    </tr>\n",
       "    <tr>\n",
       "      <th>3</th>\n",
       "      <td>000d665c-7325-4b0f-a4d1-16c7c4c5b4b3</td>\n",
       "      <td>0f3a9e8c-df77-47c8-8e2a-7d6aa64c73dd</td>\n",
       "      <td>73b710cd-649a-438e-a354-618f494bee86</td>\n",
       "      <td>2020-06-11 02:40:03</td>\n",
       "      <td>delivered</td>\n",
       "    </tr>\n",
       "    <tr>\n",
       "      <th>4</th>\n",
       "      <td>001b469f-d7cb-4c00-91c4-f14657febd8d</td>\n",
       "      <td>0f3a9e8c-df77-47c8-8e2a-7d6aa64c73dd</td>\n",
       "      <td>73b710cd-649a-438e-a354-618f494bee86</td>\n",
       "      <td>2020-06-10 22:42:03</td>\n",
       "      <td>delivered</td>\n",
       "    </tr>\n",
       "  </tbody>\n",
       "</table>\n",
       "</div>"
      ],
      "text/plain": [
       "                             contact_id                           campaign_id  \\\n",
       "0  0005ab2d-a790-44ce-8887-a571fca64d80  a0d6c864-e82d-437c-a3de-9950070223a1   \n",
       "1  0005ab2d-a790-44ce-8887-a571fca64d80  a0d6c864-e82d-437c-a3de-9950070223a1   \n",
       "2  0005ab2d-a790-44ce-8887-a571fca64d80  a0d6c864-e82d-437c-a3de-9950070223a1   \n",
       "3  000d665c-7325-4b0f-a4d1-16c7c4c5b4b3  0f3a9e8c-df77-47c8-8e2a-7d6aa64c73dd   \n",
       "4  001b469f-d7cb-4c00-91c4-f14657febd8d  0f3a9e8c-df77-47c8-8e2a-7d6aa64c73dd   \n",
       "\n",
       "                               email_id            timestamp      event  \n",
       "0  f688553a-8788-48cf-bf9e-24b1c22e4d7c  2020-07-09 01:52:22  delivered  \n",
       "1  bd4f138b-90f6-4fbc-9f41-16dc72f95352  2020-07-03 00:13:42       open  \n",
       "2  bd4f138b-90f6-4fbc-9f41-16dc72f95352  2020-07-03 00:08:54  delivered  \n",
       "3  73b710cd-649a-438e-a354-618f494bee86  2020-06-11 02:40:03  delivered  \n",
       "4  73b710cd-649a-438e-a354-618f494bee86  2020-06-10 22:42:03  delivered  "
      ]
     },
     "execution_count": 11,
     "metadata": {},
     "output_type": "execute_result"
    }
   ],
   "source": [
    "engagements_df.head()"
   ]
  },
  {
   "cell_type": "markdown",
   "id": "06d55aa3",
   "metadata": {},
   "source": [
    "# Values exploration"
   ]
  },
  {
   "cell_type": "code",
   "execution_count": 21,
   "id": "b141fe4b",
   "metadata": {},
   "outputs": [
    {
     "name": "stdout",
     "output_type": "stream",
     "text": [
      "4884 DataCategories.COMPANIES:\n",
      " company_id           0\n",
      "size                 0\n",
      "linkedin_industry    1\n",
      "dtype: int64 \n",
      "\n",
      "7697 DataCategories.CONTACTS:\n",
      " contact_id       0\n",
      "position        13\n",
      "seniority       67\n",
      "function        72\n",
      "company_id       0\n",
      "country       1225\n",
      "state         1351\n",
      "dtype: int64 \n",
      "\n",
      "25842 DataCategories.ENGAGEMENTS:\n",
      " contact_id     0\n",
      "campaign_id    0\n",
      "email_id       0\n",
      "timestamp      0\n",
      "event          0\n",
      "dtype: int64 \n",
      "\n"
     ]
    }
   ],
   "source": [
    "for category, df in category_to_df.items():\n",
    "    print(f\"{len(df)} {category}:\\n\", df.isnull().sum(), \"\\n\")"
   ]
  },
  {
   "cell_type": "code",
   "execution_count": 24,
   "id": "3d5801ed",
   "metadata": {},
   "outputs": [
    {
     "data": {
      "text/plain": [
       "delivered           20391\n",
       "open                 4413\n",
       "click                 874\n",
       "survey completed      102\n",
       "reply                  62\n",
       "Name: event, dtype: int64"
      ]
     },
     "execution_count": 24,
     "metadata": {},
     "output_type": "execute_result"
    }
   ],
   "source": [
    "engagements_df.event.value_counts()"
   ]
  },
  {
   "cell_type": "code",
   "execution_count": 25,
   "id": "e779f67e",
   "metadata": {},
   "outputs": [
    {
     "data": {
      "text/html": [
       "<div>\n",
       "<style scoped>\n",
       "    .dataframe tbody tr th:only-of-type {\n",
       "        vertical-align: middle;\n",
       "    }\n",
       "\n",
       "    .dataframe tbody tr th {\n",
       "        vertical-align: top;\n",
       "    }\n",
       "\n",
       "    .dataframe thead th {\n",
       "        text-align: right;\n",
       "    }\n",
       "</style>\n",
       "<table border=\"1\" class=\"dataframe\">\n",
       "  <thead>\n",
       "    <tr style=\"text-align: right;\">\n",
       "      <th></th>\n",
       "      <th>contact_id</th>\n",
       "      <th>campaign_id</th>\n",
       "      <th>email_id</th>\n",
       "      <th>timestamp</th>\n",
       "      <th>event</th>\n",
       "    </tr>\n",
       "  </thead>\n",
       "  <tbody>\n",
       "    <tr>\n",
       "      <th>0</th>\n",
       "      <td>0005ab2d-a790-44ce-8887-a571fca64d80</td>\n",
       "      <td>a0d6c864-e82d-437c-a3de-9950070223a1</td>\n",
       "      <td>f688553a-8788-48cf-bf9e-24b1c22e4d7c</td>\n",
       "      <td>2020-07-09 01:52:22</td>\n",
       "      <td>delivered</td>\n",
       "    </tr>\n",
       "    <tr>\n",
       "      <th>2</th>\n",
       "      <td>0005ab2d-a790-44ce-8887-a571fca64d80</td>\n",
       "      <td>a0d6c864-e82d-437c-a3de-9950070223a1</td>\n",
       "      <td>bd4f138b-90f6-4fbc-9f41-16dc72f95352</td>\n",
       "      <td>2020-07-03 00:08:54</td>\n",
       "      <td>delivered</td>\n",
       "    </tr>\n",
       "    <tr>\n",
       "      <th>3</th>\n",
       "      <td>000d665c-7325-4b0f-a4d1-16c7c4c5b4b3</td>\n",
       "      <td>0f3a9e8c-df77-47c8-8e2a-7d6aa64c73dd</td>\n",
       "      <td>73b710cd-649a-438e-a354-618f494bee86</td>\n",
       "      <td>2020-06-11 02:40:03</td>\n",
       "      <td>delivered</td>\n",
       "    </tr>\n",
       "    <tr>\n",
       "      <th>4</th>\n",
       "      <td>001b469f-d7cb-4c00-91c4-f14657febd8d</td>\n",
       "      <td>0f3a9e8c-df77-47c8-8e2a-7d6aa64c73dd</td>\n",
       "      <td>73b710cd-649a-438e-a354-618f494bee86</td>\n",
       "      <td>2020-06-10 22:42:03</td>\n",
       "      <td>delivered</td>\n",
       "    </tr>\n",
       "    <tr>\n",
       "      <th>6</th>\n",
       "      <td>0020badd-2a0b-4b47-a355-61724a954f85</td>\n",
       "      <td>8baf9080-7319-439d-a423-4f990b34f77f</td>\n",
       "      <td>aba80728-356a-4ff0-a6ee-3208d30b9236</td>\n",
       "      <td>2020-04-07 13:56:41</td>\n",
       "      <td>delivered</td>\n",
       "    </tr>\n",
       "    <tr>\n",
       "      <th>...</th>\n",
       "      <td>...</td>\n",
       "      <td>...</td>\n",
       "      <td>...</td>\n",
       "      <td>...</td>\n",
       "      <td>...</td>\n",
       "    </tr>\n",
       "    <tr>\n",
       "      <th>25835</th>\n",
       "      <td>ffe5209b-7fc6-43d1-8e75-161dbb21a7cc</td>\n",
       "      <td>a0d6c864-e82d-437c-a3de-9950070223a1</td>\n",
       "      <td>bd4f138b-90f6-4fbc-9f41-16dc72f95352</td>\n",
       "      <td>2020-06-17 20:38:04</td>\n",
       "      <td>delivered</td>\n",
       "    </tr>\n",
       "    <tr>\n",
       "      <th>25836</th>\n",
       "      <td>ffe5209b-7fc6-43d1-8e75-161dbb21a7cc</td>\n",
       "      <td>a0d6c864-e82d-437c-a3de-9950070223a1</td>\n",
       "      <td>f3167a65-e841-48d8-9c9b-74269def88d0</td>\n",
       "      <td>2020-06-29 18:04:36</td>\n",
       "      <td>delivered</td>\n",
       "    </tr>\n",
       "    <tr>\n",
       "      <th>25837</th>\n",
       "      <td>ffe5209b-7fc6-43d1-8e75-161dbb21a7cc</td>\n",
       "      <td>a0d6c864-e82d-437c-a3de-9950070223a1</td>\n",
       "      <td>1389181d-7781-4982-a27a-9157922292cd</td>\n",
       "      <td>2020-07-07 23:04:03</td>\n",
       "      <td>delivered</td>\n",
       "    </tr>\n",
       "    <tr>\n",
       "      <th>25840</th>\n",
       "      <td>ffe5209b-7fc6-43d1-8e75-161dbb21a7cc</td>\n",
       "      <td>a0d6c864-e82d-437c-a3de-9950070223a1</td>\n",
       "      <td>f688553a-8788-48cf-bf9e-24b1c22e4d7c</td>\n",
       "      <td>2020-06-23 03:47:21</td>\n",
       "      <td>delivered</td>\n",
       "    </tr>\n",
       "    <tr>\n",
       "      <th>25841</th>\n",
       "      <td>ffee8b72-d705-4a4d-81a5-8bc12a912546</td>\n",
       "      <td>0f3a9e8c-df77-47c8-8e2a-7d6aa64c73dd</td>\n",
       "      <td>73b710cd-649a-438e-a354-618f494bee86</td>\n",
       "      <td>2020-07-02 02:33:11</td>\n",
       "      <td>delivered</td>\n",
       "    </tr>\n",
       "  </tbody>\n",
       "</table>\n",
       "<p>20391 rows × 5 columns</p>\n",
       "</div>"
      ],
      "text/plain": [
       "                                 contact_id  \\\n",
       "0      0005ab2d-a790-44ce-8887-a571fca64d80   \n",
       "2      0005ab2d-a790-44ce-8887-a571fca64d80   \n",
       "3      000d665c-7325-4b0f-a4d1-16c7c4c5b4b3   \n",
       "4      001b469f-d7cb-4c00-91c4-f14657febd8d   \n",
       "6      0020badd-2a0b-4b47-a355-61724a954f85   \n",
       "...                                     ...   \n",
       "25835  ffe5209b-7fc6-43d1-8e75-161dbb21a7cc   \n",
       "25836  ffe5209b-7fc6-43d1-8e75-161dbb21a7cc   \n",
       "25837  ffe5209b-7fc6-43d1-8e75-161dbb21a7cc   \n",
       "25840  ffe5209b-7fc6-43d1-8e75-161dbb21a7cc   \n",
       "25841  ffee8b72-d705-4a4d-81a5-8bc12a912546   \n",
       "\n",
       "                                campaign_id  \\\n",
       "0      a0d6c864-e82d-437c-a3de-9950070223a1   \n",
       "2      a0d6c864-e82d-437c-a3de-9950070223a1   \n",
       "3      0f3a9e8c-df77-47c8-8e2a-7d6aa64c73dd   \n",
       "4      0f3a9e8c-df77-47c8-8e2a-7d6aa64c73dd   \n",
       "6      8baf9080-7319-439d-a423-4f990b34f77f   \n",
       "...                                     ...   \n",
       "25835  a0d6c864-e82d-437c-a3de-9950070223a1   \n",
       "25836  a0d6c864-e82d-437c-a3de-9950070223a1   \n",
       "25837  a0d6c864-e82d-437c-a3de-9950070223a1   \n",
       "25840  a0d6c864-e82d-437c-a3de-9950070223a1   \n",
       "25841  0f3a9e8c-df77-47c8-8e2a-7d6aa64c73dd   \n",
       "\n",
       "                                   email_id            timestamp      event  \n",
       "0      f688553a-8788-48cf-bf9e-24b1c22e4d7c  2020-07-09 01:52:22  delivered  \n",
       "2      bd4f138b-90f6-4fbc-9f41-16dc72f95352  2020-07-03 00:08:54  delivered  \n",
       "3      73b710cd-649a-438e-a354-618f494bee86  2020-06-11 02:40:03  delivered  \n",
       "4      73b710cd-649a-438e-a354-618f494bee86  2020-06-10 22:42:03  delivered  \n",
       "6      aba80728-356a-4ff0-a6ee-3208d30b9236  2020-04-07 13:56:41  delivered  \n",
       "...                                     ...                  ...        ...  \n",
       "25835  bd4f138b-90f6-4fbc-9f41-16dc72f95352  2020-06-17 20:38:04  delivered  \n",
       "25836  f3167a65-e841-48d8-9c9b-74269def88d0  2020-06-29 18:04:36  delivered  \n",
       "25837  1389181d-7781-4982-a27a-9157922292cd  2020-07-07 23:04:03  delivered  \n",
       "25840  f688553a-8788-48cf-bf9e-24b1c22e4d7c  2020-06-23 03:47:21  delivered  \n",
       "25841  73b710cd-649a-438e-a354-618f494bee86  2020-07-02 02:33:11  delivered  \n",
       "\n",
       "[20391 rows x 5 columns]"
      ]
     },
     "execution_count": 25,
     "metadata": {},
     "output_type": "execute_result"
    }
   ],
   "source": [
    "engagements_df[engagements_df.event == \"delivered\"]"
   ]
  },
  {
   "cell_type": "code",
   "execution_count": 35,
   "id": "025e368b",
   "metadata": {},
   "outputs": [],
   "source": [
    "replies_emails = engagements_df[engagements_df.event == \"reply\"].email_id"
   ]
  },
  {
   "cell_type": "code",
   "execution_count": 36,
   "id": "5656acba",
   "metadata": {},
   "outputs": [
    {
     "data": {
      "text/plain": [
       "13"
      ]
     },
     "execution_count": 36,
     "metadata": {},
     "output_type": "execute_result"
    }
   ],
   "source": [
    "replies_emails.nunique()"
   ]
  },
  {
   "cell_type": "code",
   "execution_count": 37,
   "id": "a73fa132",
   "metadata": {},
   "outputs": [],
   "source": [
    "replies_emails = replies_emails.unique()"
   ]
  },
  {
   "cell_type": "code",
   "execution_count": 43,
   "id": "c8a03935",
   "metadata": {},
   "outputs": [
    {
     "data": {
      "text/plain": [
       "email_id\n",
       "06229446-e20c-471b-a46a-3fa34f5e4d15     641\n",
       "0e25e45b-31d4-484c-91f9-19d60f470e89     439\n",
       "2c2f54ec-110b-4bee-98e9-7caabdc4deda    1145\n",
       "62cc33a9-9b74-4869-8678-7bd3b1f6d167     750\n",
       "6a9c1a7a-d8a2-408d-bf71-3204875cae8d    1268\n",
       "7026d670-f546-4f4e-9359-768be90ef914    1880\n",
       "73b710cd-649a-438e-a354-618f494bee86    3376\n",
       "aba80728-356a-4ff0-a6ee-3208d30b9236    1963\n",
       "bd4f138b-90f6-4fbc-9f41-16dc72f95352    2629\n",
       "cecdc7a3-93f0-4f93-8080-496eeb4f8bac    2034\n",
       "e64793b8-8726-42d7-811f-52e9236e09c1     570\n",
       "f3167a65-e841-48d8-9c9b-74269def88d0    1208\n",
       "f688553a-8788-48cf-bf9e-24b1c22e4d7c    1862\n",
       "dtype: int64"
      ]
     },
     "execution_count": 43,
     "metadata": {},
     "output_type": "execute_result"
    }
   ],
   "source": [
    "engagements_df[engagements_df.email_id.isin(replies_emails)].groupby('email_id').size()"
   ]
  },
  {
   "cell_type": "code",
   "execution_count": 44,
   "id": "c2b509c3",
   "metadata": {},
   "outputs": [],
   "source": [
    "all_emails = engagements_df.email_id.unique()"
   ]
  },
  {
   "cell_type": "code",
   "execution_count": 45,
   "id": "5986637a",
   "metadata": {
    "scrolled": true
   },
   "outputs": [
    {
     "data": {
      "text/plain": [
       "array(['f688553a-8788-48cf-bf9e-24b1c22e4d7c',\n",
       "       'bd4f138b-90f6-4fbc-9f41-16dc72f95352',\n",
       "       '73b710cd-649a-438e-a354-618f494bee86',\n",
       "       'aba80728-356a-4ff0-a6ee-3208d30b9236',\n",
       "       'cecdc7a3-93f0-4f93-8080-496eeb4f8bac',\n",
       "       '7026d670-f546-4f4e-9359-768be90ef914',\n",
       "       'd495b1e1-ab2b-4860-8e09-707fd43c20db',\n",
       "       '66c6917a-4851-4c11-9246-1e21cfe87ebe',\n",
       "       'ef84cc76-6d64-43e1-ac7c-d875e4cabd16',\n",
       "       '62cc33a9-9b74-4869-8678-7bd3b1f6d167',\n",
       "       '6c8dd981-93a2-4cc7-b40a-bccada584db1',\n",
       "       '8fdf809e-ad2e-4369-9974-81ce4eb0641a',\n",
       "       '06229446-e20c-471b-a46a-3fa34f5e4d15',\n",
       "       '115d85bf-aa96-4c97-b1d0-d258ddbe869a',\n",
       "       'd2b690a9-3398-42fc-b8a4-0c3263d6ebb6',\n",
       "       '6a9c1a7a-d8a2-408d-bf71-3204875cae8d',\n",
       "       '2c2f54ec-110b-4bee-98e9-7caabdc4deda',\n",
       "       'f3167a65-e841-48d8-9c9b-74269def88d0',\n",
       "       '1389181d-7781-4982-a27a-9157922292cd',\n",
       "       'e64793b8-8726-42d7-811f-52e9236e09c1',\n",
       "       '0e25e45b-31d4-484c-91f9-19d60f470e89',\n",
       "       'c315cdf7-225c-4c84-b0ad-ffc5ca9a89b1'], dtype=object)"
      ]
     },
     "execution_count": 45,
     "metadata": {},
     "output_type": "execute_result"
    }
   ],
   "source": [
    "all_emails"
   ]
  },
  {
   "cell_type": "code",
   "execution_count": 58,
   "id": "8afcbf17",
   "metadata": {},
   "outputs": [
    {
     "data": {
      "text/plain": [
       "delivered           20250\n",
       "open                   11\n",
       "survey completed        1\n",
       "Name: event, dtype: int64"
      ]
     },
     "execution_count": 58,
     "metadata": {},
     "output_type": "execute_result"
    }
   ],
   "source": [
    "engagements_df.sort_values(by=\"timestamp\").drop_duplicates(subset=['email_id', 'contact_id', 'campaign_id'], keep=\"first\").event.value_counts()"
   ]
  },
  {
   "cell_type": "markdown",
   "id": "64068f81",
   "metadata": {},
   "source": [
    "##### dedup resulted in ~ #delievered."
   ]
  },
  {
   "cell_type": "markdown",
   "id": "1a526324",
   "metadata": {},
   "source": [
    "## Check events chains"
   ]
  },
  {
   "cell_type": "code",
   "execution_count": 98,
   "id": "10abe222",
   "metadata": {},
   "outputs": [],
   "source": [
    "key_to_chains= [(k,list(g.event)) for k,g in engagements_df.sort_values(by=\"timestamp\").groupby(['email_id', 'contact_id', 'campaign_id'])]"
   ]
  },
  {
   "cell_type": "code",
   "execution_count": 99,
   "id": "ef1f6160",
   "metadata": {},
   "outputs": [],
   "source": [
    "key_to_important_chains = list(filter(lambda p: len(p[1]) > 1, key_to_chains))"
   ]
  },
  {
   "cell_type": "code",
   "execution_count": 100,
   "id": "1dbf228b",
   "metadata": {},
   "outputs": [
    {
     "data": {
      "text/plain": [
       "[(('06229446-e20c-471b-a46a-3fa34f5e4d15',\n",
       "   '041354b3-c4f7-4823-8f85-5e7b3128c7dc',\n",
       "   '2911db62-d3a4-4198-94ae-141b8ff2fc1b'),\n",
       "  ['delivered', 'open']),\n",
       " (('06229446-e20c-471b-a46a-3fa34f5e4d15',\n",
       "   '092b512d-91c4-48f0-9044-ad7a5c55b450',\n",
       "   '2911db62-d3a4-4198-94ae-141b8ff2fc1b'),\n",
       "  ['delivered', 'open', 'open']),\n",
       " (('06229446-e20c-471b-a46a-3fa34f5e4d15',\n",
       "   '10520e2c-93b6-42e2-923b-d48a11522b0a',\n",
       "   '2911db62-d3a4-4198-94ae-141b8ff2fc1b'),\n",
       "  ['delivered', 'open']),\n",
       " (('06229446-e20c-471b-a46a-3fa34f5e4d15',\n",
       "   '132c58a0-8a88-4673-b33e-c1b81df607b8',\n",
       "   '2911db62-d3a4-4198-94ae-141b8ff2fc1b'),\n",
       "  ['delivered', 'open']),\n",
       " (('06229446-e20c-471b-a46a-3fa34f5e4d15',\n",
       "   '1418900c-5485-4470-ba57-078a370821b9',\n",
       "   '2911db62-d3a4-4198-94ae-141b8ff2fc1b'),\n",
       "  ['delivered', 'open'])]"
      ]
     },
     "execution_count": 100,
     "metadata": {},
     "output_type": "execute_result"
    }
   ],
   "source": [
    "key_to_important_chains[:5]"
   ]
  },
  {
   "cell_type": "code",
   "execution_count": 113,
   "id": "eeb84105",
   "metadata": {},
   "outputs": [],
   "source": [
    "from collections import Counter\n",
    "all_chains = set([tuple(Counter(c).items()) for k, c in key_to_chains])"
   ]
  },
  {
   "cell_type": "code",
   "execution_count": 128,
   "id": "fa2baffa",
   "metadata": {},
   "outputs": [
    {
     "data": {
      "text/html": [
       "<div>\n",
       "<style scoped>\n",
       "    .dataframe tbody tr th:only-of-type {\n",
       "        vertical-align: middle;\n",
       "    }\n",
       "\n",
       "    .dataframe tbody tr th {\n",
       "        vertical-align: top;\n",
       "    }\n",
       "\n",
       "    .dataframe thead th {\n",
       "        text-align: right;\n",
       "    }\n",
       "</style>\n",
       "<table border=\"1\" class=\"dataframe\">\n",
       "  <thead>\n",
       "    <tr style=\"text-align: right;\">\n",
       "      <th></th>\n",
       "      <th></th>\n",
       "      <th>event</th>\n",
       "      <th>click</th>\n",
       "      <th>delivered</th>\n",
       "      <th>open</th>\n",
       "      <th>reply</th>\n",
       "      <th>survey completed</th>\n",
       "    </tr>\n",
       "    <tr>\n",
       "      <th>email_id</th>\n",
       "      <th>contact_id</th>\n",
       "      <th>campaign_id</th>\n",
       "      <th></th>\n",
       "      <th></th>\n",
       "      <th></th>\n",
       "      <th></th>\n",
       "      <th></th>\n",
       "    </tr>\n",
       "  </thead>\n",
       "  <tbody>\n",
       "    <tr>\n",
       "      <th rowspan=\"5\" valign=\"top\">06229446-e20c-471b-a46a-3fa34f5e4d15</th>\n",
       "      <th>0036e809-59be-4d78-bceb-4fa33bd737d8</th>\n",
       "      <th>2911db62-d3a4-4198-94ae-141b8ff2fc1b</th>\n",
       "      <td>NaN</td>\n",
       "      <td>2020-05-11 15:02:04</td>\n",
       "      <td>NaN</td>\n",
       "      <td>NaN</td>\n",
       "      <td>NaN</td>\n",
       "    </tr>\n",
       "    <tr>\n",
       "      <th>01192ffd-54c5-4229-90b6-250f82e8fb41</th>\n",
       "      <th>2911db62-d3a4-4198-94ae-141b8ff2fc1b</th>\n",
       "      <td>NaN</td>\n",
       "      <td>2020-05-07 23:22:04</td>\n",
       "      <td>NaN</td>\n",
       "      <td>NaN</td>\n",
       "      <td>NaN</td>\n",
       "    </tr>\n",
       "    <tr>\n",
       "      <th>011cc04b-7312-4bac-821f-3233ff170a3e</th>\n",
       "      <th>2911db62-d3a4-4198-94ae-141b8ff2fc1b</th>\n",
       "      <td>NaN</td>\n",
       "      <td>2020-05-22 23:17:04</td>\n",
       "      <td>NaN</td>\n",
       "      <td>NaN</td>\n",
       "      <td>NaN</td>\n",
       "    </tr>\n",
       "    <tr>\n",
       "      <th>013261f4-c9d5-4051-9030-bf511013e634</th>\n",
       "      <th>2911db62-d3a4-4198-94ae-141b8ff2fc1b</th>\n",
       "      <td>NaN</td>\n",
       "      <td>2020-05-08 04:27:59</td>\n",
       "      <td>NaN</td>\n",
       "      <td>NaN</td>\n",
       "      <td>NaN</td>\n",
       "    </tr>\n",
       "    <tr>\n",
       "      <th>01aa55b4-22cb-4dc9-bd68-c69fcfcee523</th>\n",
       "      <th>2911db62-d3a4-4198-94ae-141b8ff2fc1b</th>\n",
       "      <td>NaN</td>\n",
       "      <td>2020-05-08 16:07:04</td>\n",
       "      <td>NaN</td>\n",
       "      <td>NaN</td>\n",
       "      <td>NaN</td>\n",
       "    </tr>\n",
       "  </tbody>\n",
       "</table>\n",
       "</div>"
      ],
      "text/plain": [
       "event                                                                                                          click  \\\n",
       "email_id                             contact_id                           campaign_id                                  \n",
       "06229446-e20c-471b-a46a-3fa34f5e4d15 0036e809-59be-4d78-bceb-4fa33bd737d8 2911db62-d3a4-4198-94ae-141b8ff2fc1b   NaN   \n",
       "                                     01192ffd-54c5-4229-90b6-250f82e8fb41 2911db62-d3a4-4198-94ae-141b8ff2fc1b   NaN   \n",
       "                                     011cc04b-7312-4bac-821f-3233ff170a3e 2911db62-d3a4-4198-94ae-141b8ff2fc1b   NaN   \n",
       "                                     013261f4-c9d5-4051-9030-bf511013e634 2911db62-d3a4-4198-94ae-141b8ff2fc1b   NaN   \n",
       "                                     01aa55b4-22cb-4dc9-bd68-c69fcfcee523 2911db62-d3a4-4198-94ae-141b8ff2fc1b   NaN   \n",
       "\n",
       "event                                                                                                                     delivered  \\\n",
       "email_id                             contact_id                           campaign_id                                                 \n",
       "06229446-e20c-471b-a46a-3fa34f5e4d15 0036e809-59be-4d78-bceb-4fa33bd737d8 2911db62-d3a4-4198-94ae-141b8ff2fc1b  2020-05-11 15:02:04   \n",
       "                                     01192ffd-54c5-4229-90b6-250f82e8fb41 2911db62-d3a4-4198-94ae-141b8ff2fc1b  2020-05-07 23:22:04   \n",
       "                                     011cc04b-7312-4bac-821f-3233ff170a3e 2911db62-d3a4-4198-94ae-141b8ff2fc1b  2020-05-22 23:17:04   \n",
       "                                     013261f4-c9d5-4051-9030-bf511013e634 2911db62-d3a4-4198-94ae-141b8ff2fc1b  2020-05-08 04:27:59   \n",
       "                                     01aa55b4-22cb-4dc9-bd68-c69fcfcee523 2911db62-d3a4-4198-94ae-141b8ff2fc1b  2020-05-08 16:07:04   \n",
       "\n",
       "event                                                                                                          open  \\\n",
       "email_id                             contact_id                           campaign_id                                 \n",
       "06229446-e20c-471b-a46a-3fa34f5e4d15 0036e809-59be-4d78-bceb-4fa33bd737d8 2911db62-d3a4-4198-94ae-141b8ff2fc1b  NaN   \n",
       "                                     01192ffd-54c5-4229-90b6-250f82e8fb41 2911db62-d3a4-4198-94ae-141b8ff2fc1b  NaN   \n",
       "                                     011cc04b-7312-4bac-821f-3233ff170a3e 2911db62-d3a4-4198-94ae-141b8ff2fc1b  NaN   \n",
       "                                     013261f4-c9d5-4051-9030-bf511013e634 2911db62-d3a4-4198-94ae-141b8ff2fc1b  NaN   \n",
       "                                     01aa55b4-22cb-4dc9-bd68-c69fcfcee523 2911db62-d3a4-4198-94ae-141b8ff2fc1b  NaN   \n",
       "\n",
       "event                                                                                                          reply  \\\n",
       "email_id                             contact_id                           campaign_id                                  \n",
       "06229446-e20c-471b-a46a-3fa34f5e4d15 0036e809-59be-4d78-bceb-4fa33bd737d8 2911db62-d3a4-4198-94ae-141b8ff2fc1b   NaN   \n",
       "                                     01192ffd-54c5-4229-90b6-250f82e8fb41 2911db62-d3a4-4198-94ae-141b8ff2fc1b   NaN   \n",
       "                                     011cc04b-7312-4bac-821f-3233ff170a3e 2911db62-d3a4-4198-94ae-141b8ff2fc1b   NaN   \n",
       "                                     013261f4-c9d5-4051-9030-bf511013e634 2911db62-d3a4-4198-94ae-141b8ff2fc1b   NaN   \n",
       "                                     01aa55b4-22cb-4dc9-bd68-c69fcfcee523 2911db62-d3a4-4198-94ae-141b8ff2fc1b   NaN   \n",
       "\n",
       "event                                                                                                          survey completed  \n",
       "email_id                             contact_id                           campaign_id                                            \n",
       "06229446-e20c-471b-a46a-3fa34f5e4d15 0036e809-59be-4d78-bceb-4fa33bd737d8 2911db62-d3a4-4198-94ae-141b8ff2fc1b              NaN  \n",
       "                                     01192ffd-54c5-4229-90b6-250f82e8fb41 2911db62-d3a4-4198-94ae-141b8ff2fc1b              NaN  \n",
       "                                     011cc04b-7312-4bac-821f-3233ff170a3e 2911db62-d3a4-4198-94ae-141b8ff2fc1b              NaN  \n",
       "                                     013261f4-c9d5-4051-9030-bf511013e634 2911db62-d3a4-4198-94ae-141b8ff2fc1b              NaN  \n",
       "                                     01aa55b4-22cb-4dc9-bd68-c69fcfcee523 2911db62-d3a4-4198-94ae-141b8ff2fc1b              NaN  "
      ]
     },
     "execution_count": 128,
     "metadata": {},
     "output_type": "execute_result"
    }
   ],
   "source": [
    "engagements_df.sort_values(by='timestamp').drop_duplicates(subset=['email_id', 'contact_id', 'campaign_id', 'event']).pivot(index=['email_id', 'contact_id', 'campaign_id'], columns='event', values='timestamp').head()"
   ]
  },
  {
   "cell_type": "code",
   "execution_count": 122,
   "id": "e6a08018",
   "metadata": {},
   "outputs": [],
   "source": [
    "chains_df = engagements_df.sort_values(by='timestamp').pivot_table(index=['email_id', 'contact_id', 'campaign_id'], columns='event', values='event', aggfunc=len, fill_value=0)"
   ]
  },
  {
   "cell_type": "code",
   "execution_count": 126,
   "id": "cf3b3aa0",
   "metadata": {},
   "outputs": [
    {
     "data": {
      "text/plain": [
       "event\n",
       "click               0.071942\n",
       "delivered           2.007194\n",
       "open                0.352518\n",
       "reply               0.007194\n",
       "survey completed    0.028777\n",
       "dtype: float64"
      ]
     },
     "execution_count": 126,
     "metadata": {},
     "output_type": "execute_result"
    }
   ],
   "source": [
    "chains_df[chains_df.delivered > 1].mean()"
   ]
  },
  {
   "cell_type": "code",
   "execution_count": 129,
   "id": "e19390b3",
   "metadata": {},
   "outputs": [
    {
     "data": {
      "text/plain": [
       "event\n",
       "click               0.042910\n",
       "delivered           1.000000\n",
       "open                0.216388\n",
       "reply               0.003033\n",
       "survey completed    0.004823\n",
       "dtype: float64"
      ]
     },
     "execution_count": 129,
     "metadata": {},
     "output_type": "execute_result"
    }
   ],
   "source": [
    "chains_df[chains_df.delivered == 1].mean()"
   ]
  },
  {
   "cell_type": "markdown",
   "id": "0125fc09",
   "metadata": {},
   "source": [
    "#### num of delivered emails is worth considering"
   ]
  },
  {
   "cell_type": "code",
   "execution_count": 130,
   "id": "91157a27",
   "metadata": {},
   "outputs": [
    {
     "data": {
      "text/html": [
       "<div>\n",
       "<style scoped>\n",
       "    .dataframe tbody tr th:only-of-type {\n",
       "        vertical-align: middle;\n",
       "    }\n",
       "\n",
       "    .dataframe tbody tr th {\n",
       "        vertical-align: top;\n",
       "    }\n",
       "\n",
       "    .dataframe thead th {\n",
       "        text-align: right;\n",
       "    }\n",
       "</style>\n",
       "<table border=\"1\" class=\"dataframe\">\n",
       "  <thead>\n",
       "    <tr style=\"text-align: right;\">\n",
       "      <th></th>\n",
       "      <th></th>\n",
       "      <th>event</th>\n",
       "      <th>click</th>\n",
       "      <th>delivered</th>\n",
       "      <th>open</th>\n",
       "      <th>reply</th>\n",
       "      <th>survey completed</th>\n",
       "    </tr>\n",
       "    <tr>\n",
       "      <th>email_id</th>\n",
       "      <th>contact_id</th>\n",
       "      <th>campaign_id</th>\n",
       "      <th></th>\n",
       "      <th></th>\n",
       "      <th></th>\n",
       "      <th></th>\n",
       "      <th></th>\n",
       "    </tr>\n",
       "  </thead>\n",
       "  <tbody>\n",
       "    <tr>\n",
       "      <th rowspan=\"5\" valign=\"top\">06229446-e20c-471b-a46a-3fa34f5e4d15</th>\n",
       "      <th>0036e809-59be-4d78-bceb-4fa33bd737d8</th>\n",
       "      <th>2911db62-d3a4-4198-94ae-141b8ff2fc1b</th>\n",
       "      <td>0</td>\n",
       "      <td>1</td>\n",
       "      <td>0</td>\n",
       "      <td>0</td>\n",
       "      <td>0</td>\n",
       "    </tr>\n",
       "    <tr>\n",
       "      <th>01192ffd-54c5-4229-90b6-250f82e8fb41</th>\n",
       "      <th>2911db62-d3a4-4198-94ae-141b8ff2fc1b</th>\n",
       "      <td>0</td>\n",
       "      <td>1</td>\n",
       "      <td>0</td>\n",
       "      <td>0</td>\n",
       "      <td>0</td>\n",
       "    </tr>\n",
       "    <tr>\n",
       "      <th>011cc04b-7312-4bac-821f-3233ff170a3e</th>\n",
       "      <th>2911db62-d3a4-4198-94ae-141b8ff2fc1b</th>\n",
       "      <td>0</td>\n",
       "      <td>1</td>\n",
       "      <td>0</td>\n",
       "      <td>0</td>\n",
       "      <td>0</td>\n",
       "    </tr>\n",
       "    <tr>\n",
       "      <th>013261f4-c9d5-4051-9030-bf511013e634</th>\n",
       "      <th>2911db62-d3a4-4198-94ae-141b8ff2fc1b</th>\n",
       "      <td>0</td>\n",
       "      <td>1</td>\n",
       "      <td>0</td>\n",
       "      <td>0</td>\n",
       "      <td>0</td>\n",
       "    </tr>\n",
       "    <tr>\n",
       "      <th>01aa55b4-22cb-4dc9-bd68-c69fcfcee523</th>\n",
       "      <th>2911db62-d3a4-4198-94ae-141b8ff2fc1b</th>\n",
       "      <td>0</td>\n",
       "      <td>1</td>\n",
       "      <td>0</td>\n",
       "      <td>0</td>\n",
       "      <td>0</td>\n",
       "    </tr>\n",
       "  </tbody>\n",
       "</table>\n",
       "</div>"
      ],
      "text/plain": [
       "event                                                                                                           click  \\\n",
       "email_id                             contact_id                           campaign_id                                   \n",
       "06229446-e20c-471b-a46a-3fa34f5e4d15 0036e809-59be-4d78-bceb-4fa33bd737d8 2911db62-d3a4-4198-94ae-141b8ff2fc1b      0   \n",
       "                                     01192ffd-54c5-4229-90b6-250f82e8fb41 2911db62-d3a4-4198-94ae-141b8ff2fc1b      0   \n",
       "                                     011cc04b-7312-4bac-821f-3233ff170a3e 2911db62-d3a4-4198-94ae-141b8ff2fc1b      0   \n",
       "                                     013261f4-c9d5-4051-9030-bf511013e634 2911db62-d3a4-4198-94ae-141b8ff2fc1b      0   \n",
       "                                     01aa55b4-22cb-4dc9-bd68-c69fcfcee523 2911db62-d3a4-4198-94ae-141b8ff2fc1b      0   \n",
       "\n",
       "event                                                                                                           delivered  \\\n",
       "email_id                             contact_id                           campaign_id                                       \n",
       "06229446-e20c-471b-a46a-3fa34f5e4d15 0036e809-59be-4d78-bceb-4fa33bd737d8 2911db62-d3a4-4198-94ae-141b8ff2fc1b          1   \n",
       "                                     01192ffd-54c5-4229-90b6-250f82e8fb41 2911db62-d3a4-4198-94ae-141b8ff2fc1b          1   \n",
       "                                     011cc04b-7312-4bac-821f-3233ff170a3e 2911db62-d3a4-4198-94ae-141b8ff2fc1b          1   \n",
       "                                     013261f4-c9d5-4051-9030-bf511013e634 2911db62-d3a4-4198-94ae-141b8ff2fc1b          1   \n",
       "                                     01aa55b4-22cb-4dc9-bd68-c69fcfcee523 2911db62-d3a4-4198-94ae-141b8ff2fc1b          1   \n",
       "\n",
       "event                                                                                                           open  \\\n",
       "email_id                             contact_id                           campaign_id                                  \n",
       "06229446-e20c-471b-a46a-3fa34f5e4d15 0036e809-59be-4d78-bceb-4fa33bd737d8 2911db62-d3a4-4198-94ae-141b8ff2fc1b     0   \n",
       "                                     01192ffd-54c5-4229-90b6-250f82e8fb41 2911db62-d3a4-4198-94ae-141b8ff2fc1b     0   \n",
       "                                     011cc04b-7312-4bac-821f-3233ff170a3e 2911db62-d3a4-4198-94ae-141b8ff2fc1b     0   \n",
       "                                     013261f4-c9d5-4051-9030-bf511013e634 2911db62-d3a4-4198-94ae-141b8ff2fc1b     0   \n",
       "                                     01aa55b4-22cb-4dc9-bd68-c69fcfcee523 2911db62-d3a4-4198-94ae-141b8ff2fc1b     0   \n",
       "\n",
       "event                                                                                                           reply  \\\n",
       "email_id                             contact_id                           campaign_id                                   \n",
       "06229446-e20c-471b-a46a-3fa34f5e4d15 0036e809-59be-4d78-bceb-4fa33bd737d8 2911db62-d3a4-4198-94ae-141b8ff2fc1b      0   \n",
       "                                     01192ffd-54c5-4229-90b6-250f82e8fb41 2911db62-d3a4-4198-94ae-141b8ff2fc1b      0   \n",
       "                                     011cc04b-7312-4bac-821f-3233ff170a3e 2911db62-d3a4-4198-94ae-141b8ff2fc1b      0   \n",
       "                                     013261f4-c9d5-4051-9030-bf511013e634 2911db62-d3a4-4198-94ae-141b8ff2fc1b      0   \n",
       "                                     01aa55b4-22cb-4dc9-bd68-c69fcfcee523 2911db62-d3a4-4198-94ae-141b8ff2fc1b      0   \n",
       "\n",
       "event                                                                                                           survey completed  \n",
       "email_id                             contact_id                           campaign_id                                             \n",
       "06229446-e20c-471b-a46a-3fa34f5e4d15 0036e809-59be-4d78-bceb-4fa33bd737d8 2911db62-d3a4-4198-94ae-141b8ff2fc1b                 0  \n",
       "                                     01192ffd-54c5-4229-90b6-250f82e8fb41 2911db62-d3a4-4198-94ae-141b8ff2fc1b                 0  \n",
       "                                     011cc04b-7312-4bac-821f-3233ff170a3e 2911db62-d3a4-4198-94ae-141b8ff2fc1b                 0  \n",
       "                                     013261f4-c9d5-4051-9030-bf511013e634 2911db62-d3a4-4198-94ae-141b8ff2fc1b                 0  \n",
       "                                     01aa55b4-22cb-4dc9-bd68-c69fcfcee523 2911db62-d3a4-4198-94ae-141b8ff2fc1b                 0  "
      ]
     },
     "execution_count": 130,
     "metadata": {},
     "output_type": "execute_result"
    }
   ],
   "source": [
    "chains_df.head()"
   ]
  },
  {
   "cell_type": "code",
   "execution_count": 138,
   "id": "335e1d70",
   "metadata": {},
   "outputs": [],
   "source": [
    "chains_df['success'] = chains_df.drop('delivered', axis=1).apply(lambda event_counts: sum(event_counts)> 1, axis=1)"
   ]
  },
  {
   "cell_type": "code",
   "execution_count": 243,
   "id": "7cb312f3",
   "metadata": {},
   "outputs": [
    {
     "data": {
      "text/html": [
       "<div>\n",
       "<style scoped>\n",
       "    .dataframe tbody tr th:only-of-type {\n",
       "        vertical-align: middle;\n",
       "    }\n",
       "\n",
       "    .dataframe tbody tr th {\n",
       "        vertical-align: top;\n",
       "    }\n",
       "\n",
       "    .dataframe thead th {\n",
       "        text-align: right;\n",
       "    }\n",
       "</style>\n",
       "<table border=\"1\" class=\"dataframe\">\n",
       "  <thead>\n",
       "    <tr style=\"text-align: right;\">\n",
       "      <th></th>\n",
       "      <th></th>\n",
       "      <th>event</th>\n",
       "      <th>click</th>\n",
       "      <th>delivered</th>\n",
       "      <th>open</th>\n",
       "      <th>reply</th>\n",
       "      <th>survey completed</th>\n",
       "      <th>success</th>\n",
       "    </tr>\n",
       "    <tr>\n",
       "      <th>email_id</th>\n",
       "      <th>contact_id</th>\n",
       "      <th>campaign_id</th>\n",
       "      <th></th>\n",
       "      <th></th>\n",
       "      <th></th>\n",
       "      <th></th>\n",
       "      <th></th>\n",
       "      <th></th>\n",
       "    </tr>\n",
       "  </thead>\n",
       "  <tbody>\n",
       "    <tr>\n",
       "      <th rowspan=\"5\" valign=\"top\">06229446-e20c-471b-a46a-3fa34f5e4d15</th>\n",
       "      <th>0036e809-59be-4d78-bceb-4fa33bd737d8</th>\n",
       "      <th>2911db62-d3a4-4198-94ae-141b8ff2fc1b</th>\n",
       "      <td>0</td>\n",
       "      <td>1</td>\n",
       "      <td>0</td>\n",
       "      <td>0</td>\n",
       "      <td>0</td>\n",
       "      <td>False</td>\n",
       "    </tr>\n",
       "    <tr>\n",
       "      <th>01192ffd-54c5-4229-90b6-250f82e8fb41</th>\n",
       "      <th>2911db62-d3a4-4198-94ae-141b8ff2fc1b</th>\n",
       "      <td>0</td>\n",
       "      <td>1</td>\n",
       "      <td>0</td>\n",
       "      <td>0</td>\n",
       "      <td>0</td>\n",
       "      <td>False</td>\n",
       "    </tr>\n",
       "    <tr>\n",
       "      <th>011cc04b-7312-4bac-821f-3233ff170a3e</th>\n",
       "      <th>2911db62-d3a4-4198-94ae-141b8ff2fc1b</th>\n",
       "      <td>0</td>\n",
       "      <td>1</td>\n",
       "      <td>0</td>\n",
       "      <td>0</td>\n",
       "      <td>0</td>\n",
       "      <td>False</td>\n",
       "    </tr>\n",
       "    <tr>\n",
       "      <th>013261f4-c9d5-4051-9030-bf511013e634</th>\n",
       "      <th>2911db62-d3a4-4198-94ae-141b8ff2fc1b</th>\n",
       "      <td>0</td>\n",
       "      <td>1</td>\n",
       "      <td>0</td>\n",
       "      <td>0</td>\n",
       "      <td>0</td>\n",
       "      <td>False</td>\n",
       "    </tr>\n",
       "    <tr>\n",
       "      <th>01aa55b4-22cb-4dc9-bd68-c69fcfcee523</th>\n",
       "      <th>2911db62-d3a4-4198-94ae-141b8ff2fc1b</th>\n",
       "      <td>0</td>\n",
       "      <td>1</td>\n",
       "      <td>0</td>\n",
       "      <td>0</td>\n",
       "      <td>0</td>\n",
       "      <td>False</td>\n",
       "    </tr>\n",
       "    <tr>\n",
       "      <th>...</th>\n",
       "      <th>...</th>\n",
       "      <th>...</th>\n",
       "      <td>...</td>\n",
       "      <td>...</td>\n",
       "      <td>...</td>\n",
       "      <td>...</td>\n",
       "      <td>...</td>\n",
       "      <td>...</td>\n",
       "    </tr>\n",
       "    <tr>\n",
       "      <th rowspan=\"5\" valign=\"top\">f688553a-8788-48cf-bf9e-24b1c22e4d7c</th>\n",
       "      <th>ff561253-a3e4-4009-8ac8-9f56ed5c6866</th>\n",
       "      <th>a0d6c864-e82d-437c-a3de-9950070223a1</th>\n",
       "      <td>0</td>\n",
       "      <td>1</td>\n",
       "      <td>0</td>\n",
       "      <td>0</td>\n",
       "      <td>0</td>\n",
       "      <td>False</td>\n",
       "    </tr>\n",
       "    <tr>\n",
       "      <th>ff6aa07f-90f6-4692-9984-7aec67774a2b</th>\n",
       "      <th>a0d6c864-e82d-437c-a3de-9950070223a1</th>\n",
       "      <td>0</td>\n",
       "      <td>1</td>\n",
       "      <td>0</td>\n",
       "      <td>0</td>\n",
       "      <td>0</td>\n",
       "      <td>False</td>\n",
       "    </tr>\n",
       "    <tr>\n",
       "      <th>ff8779d3-30a6-4284-92de-31e249a1ed15</th>\n",
       "      <th>a0d6c864-e82d-437c-a3de-9950070223a1</th>\n",
       "      <td>0</td>\n",
       "      <td>1</td>\n",
       "      <td>1</td>\n",
       "      <td>0</td>\n",
       "      <td>0</td>\n",
       "      <td>False</td>\n",
       "    </tr>\n",
       "    <tr>\n",
       "      <th>ffbafec8-c4ce-4e21-ba58-97681b1a81d5</th>\n",
       "      <th>a0d6c864-e82d-437c-a3de-9950070223a1</th>\n",
       "      <td>0</td>\n",
       "      <td>1</td>\n",
       "      <td>3</td>\n",
       "      <td>0</td>\n",
       "      <td>0</td>\n",
       "      <td>True</td>\n",
       "    </tr>\n",
       "    <tr>\n",
       "      <th>ffe5209b-7fc6-43d1-8e75-161dbb21a7cc</th>\n",
       "      <th>a0d6c864-e82d-437c-a3de-9950070223a1</th>\n",
       "      <td>0</td>\n",
       "      <td>1</td>\n",
       "      <td>1</td>\n",
       "      <td>0</td>\n",
       "      <td>0</td>\n",
       "      <td>False</td>\n",
       "    </tr>\n",
       "  </tbody>\n",
       "</table>\n",
       "<p>20262 rows × 6 columns</p>\n",
       "</div>"
      ],
      "text/plain": [
       "event                                                                                                           click  \\\n",
       "email_id                             contact_id                           campaign_id                                   \n",
       "06229446-e20c-471b-a46a-3fa34f5e4d15 0036e809-59be-4d78-bceb-4fa33bd737d8 2911db62-d3a4-4198-94ae-141b8ff2fc1b      0   \n",
       "                                     01192ffd-54c5-4229-90b6-250f82e8fb41 2911db62-d3a4-4198-94ae-141b8ff2fc1b      0   \n",
       "                                     011cc04b-7312-4bac-821f-3233ff170a3e 2911db62-d3a4-4198-94ae-141b8ff2fc1b      0   \n",
       "                                     013261f4-c9d5-4051-9030-bf511013e634 2911db62-d3a4-4198-94ae-141b8ff2fc1b      0   \n",
       "                                     01aa55b4-22cb-4dc9-bd68-c69fcfcee523 2911db62-d3a4-4198-94ae-141b8ff2fc1b      0   \n",
       "...                                                                                                               ...   \n",
       "f688553a-8788-48cf-bf9e-24b1c22e4d7c ff561253-a3e4-4009-8ac8-9f56ed5c6866 a0d6c864-e82d-437c-a3de-9950070223a1      0   \n",
       "                                     ff6aa07f-90f6-4692-9984-7aec67774a2b a0d6c864-e82d-437c-a3de-9950070223a1      0   \n",
       "                                     ff8779d3-30a6-4284-92de-31e249a1ed15 a0d6c864-e82d-437c-a3de-9950070223a1      0   \n",
       "                                     ffbafec8-c4ce-4e21-ba58-97681b1a81d5 a0d6c864-e82d-437c-a3de-9950070223a1      0   \n",
       "                                     ffe5209b-7fc6-43d1-8e75-161dbb21a7cc a0d6c864-e82d-437c-a3de-9950070223a1      0   \n",
       "\n",
       "event                                                                                                           delivered  \\\n",
       "email_id                             contact_id                           campaign_id                                       \n",
       "06229446-e20c-471b-a46a-3fa34f5e4d15 0036e809-59be-4d78-bceb-4fa33bd737d8 2911db62-d3a4-4198-94ae-141b8ff2fc1b          1   \n",
       "                                     01192ffd-54c5-4229-90b6-250f82e8fb41 2911db62-d3a4-4198-94ae-141b8ff2fc1b          1   \n",
       "                                     011cc04b-7312-4bac-821f-3233ff170a3e 2911db62-d3a4-4198-94ae-141b8ff2fc1b          1   \n",
       "                                     013261f4-c9d5-4051-9030-bf511013e634 2911db62-d3a4-4198-94ae-141b8ff2fc1b          1   \n",
       "                                     01aa55b4-22cb-4dc9-bd68-c69fcfcee523 2911db62-d3a4-4198-94ae-141b8ff2fc1b          1   \n",
       "...                                                                                                                   ...   \n",
       "f688553a-8788-48cf-bf9e-24b1c22e4d7c ff561253-a3e4-4009-8ac8-9f56ed5c6866 a0d6c864-e82d-437c-a3de-9950070223a1          1   \n",
       "                                     ff6aa07f-90f6-4692-9984-7aec67774a2b a0d6c864-e82d-437c-a3de-9950070223a1          1   \n",
       "                                     ff8779d3-30a6-4284-92de-31e249a1ed15 a0d6c864-e82d-437c-a3de-9950070223a1          1   \n",
       "                                     ffbafec8-c4ce-4e21-ba58-97681b1a81d5 a0d6c864-e82d-437c-a3de-9950070223a1          1   \n",
       "                                     ffe5209b-7fc6-43d1-8e75-161dbb21a7cc a0d6c864-e82d-437c-a3de-9950070223a1          1   \n",
       "\n",
       "event                                                                                                           open  \\\n",
       "email_id                             contact_id                           campaign_id                                  \n",
       "06229446-e20c-471b-a46a-3fa34f5e4d15 0036e809-59be-4d78-bceb-4fa33bd737d8 2911db62-d3a4-4198-94ae-141b8ff2fc1b     0   \n",
       "                                     01192ffd-54c5-4229-90b6-250f82e8fb41 2911db62-d3a4-4198-94ae-141b8ff2fc1b     0   \n",
       "                                     011cc04b-7312-4bac-821f-3233ff170a3e 2911db62-d3a4-4198-94ae-141b8ff2fc1b     0   \n",
       "                                     013261f4-c9d5-4051-9030-bf511013e634 2911db62-d3a4-4198-94ae-141b8ff2fc1b     0   \n",
       "                                     01aa55b4-22cb-4dc9-bd68-c69fcfcee523 2911db62-d3a4-4198-94ae-141b8ff2fc1b     0   \n",
       "...                                                                                                              ...   \n",
       "f688553a-8788-48cf-bf9e-24b1c22e4d7c ff561253-a3e4-4009-8ac8-9f56ed5c6866 a0d6c864-e82d-437c-a3de-9950070223a1     0   \n",
       "                                     ff6aa07f-90f6-4692-9984-7aec67774a2b a0d6c864-e82d-437c-a3de-9950070223a1     0   \n",
       "                                     ff8779d3-30a6-4284-92de-31e249a1ed15 a0d6c864-e82d-437c-a3de-9950070223a1     1   \n",
       "                                     ffbafec8-c4ce-4e21-ba58-97681b1a81d5 a0d6c864-e82d-437c-a3de-9950070223a1     3   \n",
       "                                     ffe5209b-7fc6-43d1-8e75-161dbb21a7cc a0d6c864-e82d-437c-a3de-9950070223a1     1   \n",
       "\n",
       "event                                                                                                           reply  \\\n",
       "email_id                             contact_id                           campaign_id                                   \n",
       "06229446-e20c-471b-a46a-3fa34f5e4d15 0036e809-59be-4d78-bceb-4fa33bd737d8 2911db62-d3a4-4198-94ae-141b8ff2fc1b      0   \n",
       "                                     01192ffd-54c5-4229-90b6-250f82e8fb41 2911db62-d3a4-4198-94ae-141b8ff2fc1b      0   \n",
       "                                     011cc04b-7312-4bac-821f-3233ff170a3e 2911db62-d3a4-4198-94ae-141b8ff2fc1b      0   \n",
       "                                     013261f4-c9d5-4051-9030-bf511013e634 2911db62-d3a4-4198-94ae-141b8ff2fc1b      0   \n",
       "                                     01aa55b4-22cb-4dc9-bd68-c69fcfcee523 2911db62-d3a4-4198-94ae-141b8ff2fc1b      0   \n",
       "...                                                                                                               ...   \n",
       "f688553a-8788-48cf-bf9e-24b1c22e4d7c ff561253-a3e4-4009-8ac8-9f56ed5c6866 a0d6c864-e82d-437c-a3de-9950070223a1      0   \n",
       "                                     ff6aa07f-90f6-4692-9984-7aec67774a2b a0d6c864-e82d-437c-a3de-9950070223a1      0   \n",
       "                                     ff8779d3-30a6-4284-92de-31e249a1ed15 a0d6c864-e82d-437c-a3de-9950070223a1      0   \n",
       "                                     ffbafec8-c4ce-4e21-ba58-97681b1a81d5 a0d6c864-e82d-437c-a3de-9950070223a1      0   \n",
       "                                     ffe5209b-7fc6-43d1-8e75-161dbb21a7cc a0d6c864-e82d-437c-a3de-9950070223a1      0   \n",
       "\n",
       "event                                                                                                           survey completed  \\\n",
       "email_id                             contact_id                           campaign_id                                              \n",
       "06229446-e20c-471b-a46a-3fa34f5e4d15 0036e809-59be-4d78-bceb-4fa33bd737d8 2911db62-d3a4-4198-94ae-141b8ff2fc1b                 0   \n",
       "                                     01192ffd-54c5-4229-90b6-250f82e8fb41 2911db62-d3a4-4198-94ae-141b8ff2fc1b                 0   \n",
       "                                     011cc04b-7312-4bac-821f-3233ff170a3e 2911db62-d3a4-4198-94ae-141b8ff2fc1b                 0   \n",
       "                                     013261f4-c9d5-4051-9030-bf511013e634 2911db62-d3a4-4198-94ae-141b8ff2fc1b                 0   \n",
       "                                     01aa55b4-22cb-4dc9-bd68-c69fcfcee523 2911db62-d3a4-4198-94ae-141b8ff2fc1b                 0   \n",
       "...                                                                                                                          ...   \n",
       "f688553a-8788-48cf-bf9e-24b1c22e4d7c ff561253-a3e4-4009-8ac8-9f56ed5c6866 a0d6c864-e82d-437c-a3de-9950070223a1                 0   \n",
       "                                     ff6aa07f-90f6-4692-9984-7aec67774a2b a0d6c864-e82d-437c-a3de-9950070223a1                 0   \n",
       "                                     ff8779d3-30a6-4284-92de-31e249a1ed15 a0d6c864-e82d-437c-a3de-9950070223a1                 0   \n",
       "                                     ffbafec8-c4ce-4e21-ba58-97681b1a81d5 a0d6c864-e82d-437c-a3de-9950070223a1                 0   \n",
       "                                     ffe5209b-7fc6-43d1-8e75-161dbb21a7cc a0d6c864-e82d-437c-a3de-9950070223a1                 0   \n",
       "\n",
       "event                                                                                                           success  \n",
       "email_id                             contact_id                           campaign_id                                    \n",
       "06229446-e20c-471b-a46a-3fa34f5e4d15 0036e809-59be-4d78-bceb-4fa33bd737d8 2911db62-d3a4-4198-94ae-141b8ff2fc1b    False  \n",
       "                                     01192ffd-54c5-4229-90b6-250f82e8fb41 2911db62-d3a4-4198-94ae-141b8ff2fc1b    False  \n",
       "                                     011cc04b-7312-4bac-821f-3233ff170a3e 2911db62-d3a4-4198-94ae-141b8ff2fc1b    False  \n",
       "                                     013261f4-c9d5-4051-9030-bf511013e634 2911db62-d3a4-4198-94ae-141b8ff2fc1b    False  \n",
       "                                     01aa55b4-22cb-4dc9-bd68-c69fcfcee523 2911db62-d3a4-4198-94ae-141b8ff2fc1b    False  \n",
       "...                                                                                                                 ...  \n",
       "f688553a-8788-48cf-bf9e-24b1c22e4d7c ff561253-a3e4-4009-8ac8-9f56ed5c6866 a0d6c864-e82d-437c-a3de-9950070223a1    False  \n",
       "                                     ff6aa07f-90f6-4692-9984-7aec67774a2b a0d6c864-e82d-437c-a3de-9950070223a1    False  \n",
       "                                     ff8779d3-30a6-4284-92de-31e249a1ed15 a0d6c864-e82d-437c-a3de-9950070223a1    False  \n",
       "                                     ffbafec8-c4ce-4e21-ba58-97681b1a81d5 a0d6c864-e82d-437c-a3de-9950070223a1     True  \n",
       "                                     ffe5209b-7fc6-43d1-8e75-161dbb21a7cc a0d6c864-e82d-437c-a3de-9950070223a1    False  \n",
       "\n",
       "[20262 rows x 6 columns]"
      ]
     },
     "execution_count": 243,
     "metadata": {},
     "output_type": "execute_result"
    }
   ],
   "source": [
    "chains_df"
   ]
  },
  {
   "cell_type": "code",
   "execution_count": 162,
   "id": "d9362701",
   "metadata": {},
   "outputs": [],
   "source": [
    "successful_prospects = chains_df[chains_df['success'] == True].index"
   ]
  },
  {
   "cell_type": "code",
   "execution_count": 244,
   "id": "539d0f45",
   "metadata": {},
   "outputs": [],
   "source": [
    "engagements_df.timestamp = engagements_df.timestamp.apply(lambda t: pd.Timestamp(t))"
   ]
  },
  {
   "cell_type": "code",
   "execution_count": 245,
   "id": "706afa59",
   "metadata": {},
   "outputs": [],
   "source": [
    "successful_events = engagements_df[engagements_df.set_index(['email_id', 'contact_id', 'campaign_id']).index.isin(successful_prospects)]\n",
    "failed_events = engagements_df[~engagements_df.index.isin(successful_prospects)]"
   ]
  },
  {
   "cell_type": "code",
   "execution_count": 246,
   "id": "f9fae102",
   "metadata": {},
   "outputs": [],
   "source": [
    "successful_deliveries = successful_events[successful_events.event == \"delivered\"]\n",
    "failed_deliveries = failed_events[failed_events.event == \"delivered\"]"
   ]
  },
  {
   "cell_type": "markdown",
   "id": "b2855097",
   "metadata": {},
   "source": [
    "## Event success - minutes statistics"
   ]
  },
  {
   "cell_type": "code",
   "execution_count": 249,
   "id": "380dedda",
   "metadata": {},
   "outputs": [
    {
     "data": {
      "text/plain": [
       "count    760.000000\n",
       "mean      29.782895\n",
       "std       17.618904\n",
       "min        0.000000\n",
       "25%       14.750000\n",
       "50%       30.000000\n",
       "75%       46.000000\n",
       "max       59.000000\n",
       "Name: timestamp, dtype: float64"
      ]
     },
     "execution_count": 249,
     "metadata": {},
     "output_type": "execute_result"
    }
   ],
   "source": [
    "successful_deliveries.timestamp.apply(lambda t: t.minute).describe()"
   ]
  },
  {
   "cell_type": "code",
   "execution_count": 195,
   "id": "3f9b8a95",
   "metadata": {},
   "outputs": [],
   "source": [
    "failed_deliveries.timestamp.apply(lambda t: t.minute).describe()"
   ]
  },
  {
   "cell_type": "markdown",
   "id": "1f1225b4",
   "metadata": {},
   "source": [
    "## Event success - hours statistics"
   ]
  },
  {
   "cell_type": "code",
   "execution_count": 250,
   "id": "8365990f",
   "metadata": {},
   "outputs": [
    {
     "data": {
      "text/plain": [
       "count    760.000000\n",
       "mean      13.406579\n",
       "std        8.088392\n",
       "min        0.000000\n",
       "25%        4.000000\n",
       "50%       16.000000\n",
       "75%       20.000000\n",
       "max       23.000000\n",
       "Name: timestamp, dtype: float64"
      ]
     },
     "execution_count": 250,
     "metadata": {},
     "output_type": "execute_result"
    }
   ],
   "source": [
    "successful_deliveries.timestamp.apply(lambda t: t.hour).describe()"
   ]
  },
  {
   "cell_type": "code",
   "execution_count": 251,
   "id": "f960f807",
   "metadata": {
    "scrolled": true
   },
   "outputs": [
    {
     "data": {
      "text/plain": [
       "count    20391.000000\n",
       "mean        13.422000\n",
       "std          7.694446\n",
       "min          0.000000\n",
       "25%          4.000000\n",
       "50%         16.000000\n",
       "75%         19.000000\n",
       "max         23.000000\n",
       "Name: timestamp, dtype: float64"
      ]
     },
     "execution_count": 251,
     "metadata": {},
     "output_type": "execute_result"
    }
   ],
   "source": [
    "failed_deliveries.timestamp.apply(lambda t: t.hour).describe()"
   ]
  },
  {
   "cell_type": "markdown",
   "id": "2b33dad6",
   "metadata": {},
   "source": [
    "#### changes are minor - might imply that minute/hour is not of great concern as it is"
   ]
  },
  {
   "cell_type": "markdown",
   "id": "e9cbac94",
   "metadata": {},
   "source": [
    "## Time flow"
   ]
  },
  {
   "cell_type": "code",
   "execution_count": 258,
   "id": "091a617d",
   "metadata": {},
   "outputs": [
    {
     "data": {
      "text/plain": [
       "<AxesSubplot:xlabel='timestamp'>"
      ]
     },
     "execution_count": 258,
     "metadata": {},
     "output_type": "execute_result"
    },
    {
     "data": {
      "image/png": "[encoded data removed]",
      "text/plain": [
       "<Figure size 432x288 with 1 Axes>"
      ]
     },
     "metadata": {
      "needs_background": "light"
     },
     "output_type": "display_data"
    }
   ],
   "source": [
    "successful_deliveries.set_index('timestamp').resample('1D').size().plot()"
   ]
  },
  {
   "cell_type": "code",
   "execution_count": 259,
   "id": "0f2a1061",
   "metadata": {},
   "outputs": [
    {
     "data": {
      "text/plain": [
       "<AxesSubplot:xlabel='timestamp'>"
      ]
     },
     "execution_count": 259,
     "metadata": {},
     "output_type": "execute_result"
    },
    {
     "data": {
      "image/png": "[encoded data removed]",
      "text/plain": [
       "<Figure size 432x288 with 1 Axes>"
      ]
     },
     "metadata": {
      "needs_background": "light"
     },
     "output_type": "display_data"
    }
   ],
   "source": [
    "failed_deliveries.set_index('timestamp').resample('1D').size().plot()"
   ]
  },
  {
   "cell_type": "code",
   "execution_count": 276,
   "id": "30e1cdb4",
   "metadata": {},
   "outputs": [
    {
     "data": {
      "text/plain": [
       "timestamp\n",
       "0    3263\n",
       "1    4580\n",
       "2    4358\n",
       "3    3921\n",
       "4    3381\n",
       "5     888\n",
       "dtype: int64"
      ]
     },
     "execution_count": 276,
     "metadata": {},
     "output_type": "execute_result"
    }
   ],
   "source": [
    "failed_deliveries.groupby(failed_deliveries.timestamp.apply(lambda t:t.weekday())).size()"
   ]
  },
  {
   "cell_type": "code",
   "execution_count": 275,
   "id": "27b6e94c",
   "metadata": {},
   "outputs": [
    {
     "data": {
      "text/plain": [
       "timestamp\n",
       "0    111\n",
       "1    187\n",
       "2    161\n",
       "3    133\n",
       "4    132\n",
       "5     36\n",
       "dtype: int64"
      ]
     },
     "execution_count": 275,
     "metadata": {},
     "output_type": "execute_result"
    }
   ],
   "source": [
    "successful_deliveries.groupby(successful_deliveries.timestamp.apply(lambda t:t.weekday())).size()"
   ]
  },
  {
   "cell_type": "markdown",
   "id": "7f442f25",
   "metadata": {},
   "source": [
    "# Data preperations"
   ]
  },
  {
   "cell_type": "markdown",
   "id": "5fafb8b5",
   "metadata": {},
   "source": [
    "X - represents successful delivers. prospect's features + number of previous deliveries\n",
    "\n",
    "\n",
    "Y - hour of the week to send at"
   ]
  },
  {
   "cell_type": "code",
   "execution_count": 308,
   "id": "484d7ded",
   "metadata": {},
   "outputs": [],
   "source": [
    "index_columns = ['email_id', 'contact_id', 'campaign_id']\n",
    "df = engagements_df[engagements_df.event == \"delivered\"].merge(contacts_df, on=\"contact_id\", how=\"left\").merge(companies_df, on=\"company_id\", how=\"left\")\n",
    "df = df.set_index(index_columns)\n",
    "df['success'] = df.index.isin(successful_prospects)\n",
    "df['prev_emails'] = df.sort_values('timestamp').groupby(index_columns).size() - 1\n",
    "df['hour_of_week'] = df.timestamp.apply(lambda t: 24*t.weekday() + t.hour)"
   ]
  },
  {
   "cell_type": "code",
   "execution_count": 309,
   "id": "df58b34a",
   "metadata": {
    "scrolled": true
   },
   "outputs": [
    {
     "data": {
      "text/html": [
       "<div>\n",
       "<style scoped>\n",
       "    .dataframe tbody tr th:only-of-type {\n",
       "        vertical-align: middle;\n",
       "    }\n",
       "\n",
       "    .dataframe tbody tr th {\n",
       "        vertical-align: top;\n",
       "    }\n",
       "\n",
       "    .dataframe thead th {\n",
       "        text-align: right;\n",
       "    }\n",
       "</style>\n",
       "<table border=\"1\" class=\"dataframe\">\n",
       "  <thead>\n",
       "    <tr style=\"text-align: right;\">\n",
       "      <th></th>\n",
       "      <th></th>\n",
       "      <th></th>\n",
       "      <th>timestamp</th>\n",
       "      <th>event</th>\n",
       "      <th>position</th>\n",
       "      <th>seniority</th>\n",
       "      <th>function</th>\n",
       "      <th>company_id</th>\n",
       "      <th>country</th>\n",
       "      <th>state</th>\n",
       "      <th>size</th>\n",
       "      <th>linkedin_industry</th>\n",
       "      <th>success</th>\n",
       "      <th>prev_emails</th>\n",
       "      <th>hour_of_week</th>\n",
       "    </tr>\n",
       "    <tr>\n",
       "      <th>email_id</th>\n",
       "      <th>contact_id</th>\n",
       "      <th>campaign_id</th>\n",
       "      <th></th>\n",
       "      <th></th>\n",
       "      <th></th>\n",
       "      <th></th>\n",
       "      <th></th>\n",
       "      <th></th>\n",
       "      <th></th>\n",
       "      <th></th>\n",
       "      <th></th>\n",
       "      <th></th>\n",
       "      <th></th>\n",
       "      <th></th>\n",
       "      <th></th>\n",
       "    </tr>\n",
       "  </thead>\n",
       "  <tbody>\n",
       "    <tr>\n",
       "      <th>f688553a-8788-48cf-bf9e-24b1c22e4d7c</th>\n",
       "      <th>0005ab2d-a790-44ce-8887-a571fca64d80</th>\n",
       "      <th>a0d6c864-e82d-437c-a3de-9950070223a1</th>\n",
       "      <td>2020-07-09 01:52:22</td>\n",
       "      <td>delivered</td>\n",
       "      <td>Chief Information Officer</td>\n",
       "      <td>CXO</td>\n",
       "      <td>IT</td>\n",
       "      <td>202f7f5a-1f0c-4924-9e4a-5100a15962cc</td>\n",
       "      <td>ca</td>\n",
       "      <td>ca-on</td>\n",
       "      <td>1,001-5,000</td>\n",
       "      <td>Insurance</td>\n",
       "      <td>False</td>\n",
       "      <td>0</td>\n",
       "      <td>73</td>\n",
       "    </tr>\n",
       "    <tr>\n",
       "      <th>bd4f138b-90f6-4fbc-9f41-16dc72f95352</th>\n",
       "      <th>0005ab2d-a790-44ce-8887-a571fca64d80</th>\n",
       "      <th>a0d6c864-e82d-437c-a3de-9950070223a1</th>\n",
       "      <td>2020-07-03 00:08:54</td>\n",
       "      <td>delivered</td>\n",
       "      <td>Chief Information Officer</td>\n",
       "      <td>CXO</td>\n",
       "      <td>IT</td>\n",
       "      <td>202f7f5a-1f0c-4924-9e4a-5100a15962cc</td>\n",
       "      <td>ca</td>\n",
       "      <td>ca-on</td>\n",
       "      <td>1,001-5,000</td>\n",
       "      <td>Insurance</td>\n",
       "      <td>False</td>\n",
       "      <td>0</td>\n",
       "      <td>96</td>\n",
       "    </tr>\n",
       "    <tr>\n",
       "      <th rowspan=\"2\" valign=\"top\">73b710cd-649a-438e-a354-618f494bee86</th>\n",
       "      <th>000d665c-7325-4b0f-a4d1-16c7c4c5b4b3</th>\n",
       "      <th>0f3a9e8c-df77-47c8-8e2a-7d6aa64c73dd</th>\n",
       "      <td>2020-06-11 02:40:03</td>\n",
       "      <td>delivered</td>\n",
       "      <td>Vice President - Global Supply Chain and Human...</td>\n",
       "      <td>VP</td>\n",
       "      <td>HR</td>\n",
       "      <td>c592a266-a358-45dd-97ae-32a82db94d11</td>\n",
       "      <td>NaN</td>\n",
       "      <td>NaN</td>\n",
       "      <td>201-500</td>\n",
       "      <td>Consumer Goods</td>\n",
       "      <td>False</td>\n",
       "      <td>0</td>\n",
       "      <td>74</td>\n",
       "    </tr>\n",
       "    <tr>\n",
       "      <th>001b469f-d7cb-4c00-91c4-f14657febd8d</th>\n",
       "      <th>0f3a9e8c-df77-47c8-8e2a-7d6aa64c73dd</th>\n",
       "      <td>2020-06-10 22:42:03</td>\n",
       "      <td>delivered</td>\n",
       "      <td>Director of Human Resources</td>\n",
       "      <td>Director</td>\n",
       "      <td>HR</td>\n",
       "      <td>51de6cc1-aac2-441f-bce0-6a468a284d29</td>\n",
       "      <td>NaN</td>\n",
       "      <td>NaN</td>\n",
       "      <td>51-200</td>\n",
       "      <td>Architecture &amp; Planning</td>\n",
       "      <td>False</td>\n",
       "      <td>0</td>\n",
       "      <td>70</td>\n",
       "    </tr>\n",
       "    <tr>\n",
       "      <th>aba80728-356a-4ff0-a6ee-3208d30b9236</th>\n",
       "      <th>0020badd-2a0b-4b47-a355-61724a954f85</th>\n",
       "      <th>8baf9080-7319-439d-a423-4f990b34f77f</th>\n",
       "      <td>2020-04-07 13:56:41</td>\n",
       "      <td>delivered</td>\n",
       "      <td>Vice President, Human Resource Operations</td>\n",
       "      <td>VP</td>\n",
       "      <td>HR,Operations</td>\n",
       "      <td>13317617-14e2-4e4c-a1be-0623e0094dcb</td>\n",
       "      <td>us</td>\n",
       "      <td>ny</td>\n",
       "      <td>501-1,000</td>\n",
       "      <td>Banking</td>\n",
       "      <td>False</td>\n",
       "      <td>0</td>\n",
       "      <td>37</td>\n",
       "    </tr>\n",
       "  </tbody>\n",
       "</table>\n",
       "</div>"
      ],
      "text/plain": [
       "                                                                                                                         timestamp  \\\n",
       "email_id                             contact_id                           campaign_id                                                \n",
       "f688553a-8788-48cf-bf9e-24b1c22e4d7c 0005ab2d-a790-44ce-8887-a571fca64d80 a0d6c864-e82d-437c-a3de-9950070223a1 2020-07-09 01:52:22   \n",
       "bd4f138b-90f6-4fbc-9f41-16dc72f95352 0005ab2d-a790-44ce-8887-a571fca64d80 a0d6c864-e82d-437c-a3de-9950070223a1 2020-07-03 00:08:54   \n",
       "73b710cd-649a-438e-a354-618f494bee86 000d665c-7325-4b0f-a4d1-16c7c4c5b4b3 0f3a9e8c-df77-47c8-8e2a-7d6aa64c73dd 2020-06-11 02:40:03   \n",
       "                                     001b469f-d7cb-4c00-91c4-f14657febd8d 0f3a9e8c-df77-47c8-8e2a-7d6aa64c73dd 2020-06-10 22:42:03   \n",
       "aba80728-356a-4ff0-a6ee-3208d30b9236 0020badd-2a0b-4b47-a355-61724a954f85 8baf9080-7319-439d-a423-4f990b34f77f 2020-04-07 13:56:41   \n",
       "\n",
       "                                                                                                                    event  \\\n",
       "email_id                             contact_id                           campaign_id                                       \n",
       "f688553a-8788-48cf-bf9e-24b1c22e4d7c 0005ab2d-a790-44ce-8887-a571fca64d80 a0d6c864-e82d-437c-a3de-9950070223a1  delivered   \n",
       "bd4f138b-90f6-4fbc-9f41-16dc72f95352 0005ab2d-a790-44ce-8887-a571fca64d80 a0d6c864-e82d-437c-a3de-9950070223a1  delivered   \n",
       "73b710cd-649a-438e-a354-618f494bee86 000d665c-7325-4b0f-a4d1-16c7c4c5b4b3 0f3a9e8c-df77-47c8-8e2a-7d6aa64c73dd  delivered   \n",
       "                                     001b469f-d7cb-4c00-91c4-f14657febd8d 0f3a9e8c-df77-47c8-8e2a-7d6aa64c73dd  delivered   \n",
       "aba80728-356a-4ff0-a6ee-3208d30b9236 0020badd-2a0b-4b47-a355-61724a954f85 8baf9080-7319-439d-a423-4f990b34f77f  delivered   \n",
       "\n",
       "                                                                                                                                                         position  \\\n",
       "email_id                             contact_id                           campaign_id                                                                               \n",
       "f688553a-8788-48cf-bf9e-24b1c22e4d7c 0005ab2d-a790-44ce-8887-a571fca64d80 a0d6c864-e82d-437c-a3de-9950070223a1                          Chief Information Officer   \n",
       "bd4f138b-90f6-4fbc-9f41-16dc72f95352 0005ab2d-a790-44ce-8887-a571fca64d80 a0d6c864-e82d-437c-a3de-9950070223a1                          Chief Information Officer   \n",
       "73b710cd-649a-438e-a354-618f494bee86 000d665c-7325-4b0f-a4d1-16c7c4c5b4b3 0f3a9e8c-df77-47c8-8e2a-7d6aa64c73dd  Vice President - Global Supply Chain and Human...   \n",
       "                                     001b469f-d7cb-4c00-91c4-f14657febd8d 0f3a9e8c-df77-47c8-8e2a-7d6aa64c73dd                        Director of Human Resources   \n",
       "aba80728-356a-4ff0-a6ee-3208d30b9236 0020badd-2a0b-4b47-a355-61724a954f85 8baf9080-7319-439d-a423-4f990b34f77f          Vice President, Human Resource Operations   \n",
       "\n",
       "                                                                                                               seniority  \\\n",
       "email_id                             contact_id                           campaign_id                                      \n",
       "f688553a-8788-48cf-bf9e-24b1c22e4d7c 0005ab2d-a790-44ce-8887-a571fca64d80 a0d6c864-e82d-437c-a3de-9950070223a1       CXO   \n",
       "bd4f138b-90f6-4fbc-9f41-16dc72f95352 0005ab2d-a790-44ce-8887-a571fca64d80 a0d6c864-e82d-437c-a3de-9950070223a1       CXO   \n",
       "73b710cd-649a-438e-a354-618f494bee86 000d665c-7325-4b0f-a4d1-16c7c4c5b4b3 0f3a9e8c-df77-47c8-8e2a-7d6aa64c73dd        VP   \n",
       "                                     001b469f-d7cb-4c00-91c4-f14657febd8d 0f3a9e8c-df77-47c8-8e2a-7d6aa64c73dd  Director   \n",
       "aba80728-356a-4ff0-a6ee-3208d30b9236 0020badd-2a0b-4b47-a355-61724a954f85 8baf9080-7319-439d-a423-4f990b34f77f        VP   \n",
       "\n",
       "                                                                                                                     function  \\\n",
       "email_id                             contact_id                           campaign_id                                           \n",
       "f688553a-8788-48cf-bf9e-24b1c22e4d7c 0005ab2d-a790-44ce-8887-a571fca64d80 a0d6c864-e82d-437c-a3de-9950070223a1             IT   \n",
       "bd4f138b-90f6-4fbc-9f41-16dc72f95352 0005ab2d-a790-44ce-8887-a571fca64d80 a0d6c864-e82d-437c-a3de-9950070223a1             IT   \n",
       "73b710cd-649a-438e-a354-618f494bee86 000d665c-7325-4b0f-a4d1-16c7c4c5b4b3 0f3a9e8c-df77-47c8-8e2a-7d6aa64c73dd             HR   \n",
       "                                     001b469f-d7cb-4c00-91c4-f14657febd8d 0f3a9e8c-df77-47c8-8e2a-7d6aa64c73dd             HR   \n",
       "aba80728-356a-4ff0-a6ee-3208d30b9236 0020badd-2a0b-4b47-a355-61724a954f85 8baf9080-7319-439d-a423-4f990b34f77f  HR,Operations   \n",
       "\n",
       "                                                                                                                                          company_id  \\\n",
       "email_id                             contact_id                           campaign_id                                                                  \n",
       "f688553a-8788-48cf-bf9e-24b1c22e4d7c 0005ab2d-a790-44ce-8887-a571fca64d80 a0d6c864-e82d-437c-a3de-9950070223a1  202f7f5a-1f0c-4924-9e4a-5100a15962cc   \n",
       "bd4f138b-90f6-4fbc-9f41-16dc72f95352 0005ab2d-a790-44ce-8887-a571fca64d80 a0d6c864-e82d-437c-a3de-9950070223a1  202f7f5a-1f0c-4924-9e4a-5100a15962cc   \n",
       "73b710cd-649a-438e-a354-618f494bee86 000d665c-7325-4b0f-a4d1-16c7c4c5b4b3 0f3a9e8c-df77-47c8-8e2a-7d6aa64c73dd  c592a266-a358-45dd-97ae-32a82db94d11   \n",
       "                                     001b469f-d7cb-4c00-91c4-f14657febd8d 0f3a9e8c-df77-47c8-8e2a-7d6aa64c73dd  51de6cc1-aac2-441f-bce0-6a468a284d29   \n",
       "aba80728-356a-4ff0-a6ee-3208d30b9236 0020badd-2a0b-4b47-a355-61724a954f85 8baf9080-7319-439d-a423-4f990b34f77f  13317617-14e2-4e4c-a1be-0623e0094dcb   \n",
       "\n",
       "                                                                                                               country  \\\n",
       "email_id                             contact_id                           campaign_id                                    \n",
       "f688553a-8788-48cf-bf9e-24b1c22e4d7c 0005ab2d-a790-44ce-8887-a571fca64d80 a0d6c864-e82d-437c-a3de-9950070223a1      ca   \n",
       "bd4f138b-90f6-4fbc-9f41-16dc72f95352 0005ab2d-a790-44ce-8887-a571fca64d80 a0d6c864-e82d-437c-a3de-9950070223a1      ca   \n",
       "73b710cd-649a-438e-a354-618f494bee86 000d665c-7325-4b0f-a4d1-16c7c4c5b4b3 0f3a9e8c-df77-47c8-8e2a-7d6aa64c73dd     NaN   \n",
       "                                     001b469f-d7cb-4c00-91c4-f14657febd8d 0f3a9e8c-df77-47c8-8e2a-7d6aa64c73dd     NaN   \n",
       "aba80728-356a-4ff0-a6ee-3208d30b9236 0020badd-2a0b-4b47-a355-61724a954f85 8baf9080-7319-439d-a423-4f990b34f77f      us   \n",
       "\n",
       "                                                                                                                state  \\\n",
       "email_id                             contact_id                           campaign_id                                   \n",
       "f688553a-8788-48cf-bf9e-24b1c22e4d7c 0005ab2d-a790-44ce-8887-a571fca64d80 a0d6c864-e82d-437c-a3de-9950070223a1  ca-on   \n",
       "bd4f138b-90f6-4fbc-9f41-16dc72f95352 0005ab2d-a790-44ce-8887-a571fca64d80 a0d6c864-e82d-437c-a3de-9950070223a1  ca-on   \n",
       "73b710cd-649a-438e-a354-618f494bee86 000d665c-7325-4b0f-a4d1-16c7c4c5b4b3 0f3a9e8c-df77-47c8-8e2a-7d6aa64c73dd    NaN   \n",
       "                                     001b469f-d7cb-4c00-91c4-f14657febd8d 0f3a9e8c-df77-47c8-8e2a-7d6aa64c73dd    NaN   \n",
       "aba80728-356a-4ff0-a6ee-3208d30b9236 0020badd-2a0b-4b47-a355-61724a954f85 8baf9080-7319-439d-a423-4f990b34f77f     ny   \n",
       "\n",
       "                                                                                                                       size  \\\n",
       "email_id                             contact_id                           campaign_id                                         \n",
       "f688553a-8788-48cf-bf9e-24b1c22e4d7c 0005ab2d-a790-44ce-8887-a571fca64d80 a0d6c864-e82d-437c-a3de-9950070223a1  1,001-5,000   \n",
       "bd4f138b-90f6-4fbc-9f41-16dc72f95352 0005ab2d-a790-44ce-8887-a571fca64d80 a0d6c864-e82d-437c-a3de-9950070223a1  1,001-5,000   \n",
       "73b710cd-649a-438e-a354-618f494bee86 000d665c-7325-4b0f-a4d1-16c7c4c5b4b3 0f3a9e8c-df77-47c8-8e2a-7d6aa64c73dd      201-500   \n",
       "                                     001b469f-d7cb-4c00-91c4-f14657febd8d 0f3a9e8c-df77-47c8-8e2a-7d6aa64c73dd       51-200   \n",
       "aba80728-356a-4ff0-a6ee-3208d30b9236 0020badd-2a0b-4b47-a355-61724a954f85 8baf9080-7319-439d-a423-4f990b34f77f    501-1,000   \n",
       "\n",
       "                                                                                                                      linkedin_industry  \\\n",
       "email_id                             contact_id                           campaign_id                                                     \n",
       "f688553a-8788-48cf-bf9e-24b1c22e4d7c 0005ab2d-a790-44ce-8887-a571fca64d80 a0d6c864-e82d-437c-a3de-9950070223a1                Insurance   \n",
       "bd4f138b-90f6-4fbc-9f41-16dc72f95352 0005ab2d-a790-44ce-8887-a571fca64d80 a0d6c864-e82d-437c-a3de-9950070223a1                Insurance   \n",
       "73b710cd-649a-438e-a354-618f494bee86 000d665c-7325-4b0f-a4d1-16c7c4c5b4b3 0f3a9e8c-df77-47c8-8e2a-7d6aa64c73dd           Consumer Goods   \n",
       "                                     001b469f-d7cb-4c00-91c4-f14657febd8d 0f3a9e8c-df77-47c8-8e2a-7d6aa64c73dd  Architecture & Planning   \n",
       "aba80728-356a-4ff0-a6ee-3208d30b9236 0020badd-2a0b-4b47-a355-61724a954f85 8baf9080-7319-439d-a423-4f990b34f77f                  Banking   \n",
       "\n",
       "                                                                                                                success  \\\n",
       "email_id                             contact_id                           campaign_id                                     \n",
       "f688553a-8788-48cf-bf9e-24b1c22e4d7c 0005ab2d-a790-44ce-8887-a571fca64d80 a0d6c864-e82d-437c-a3de-9950070223a1    False   \n",
       "bd4f138b-90f6-4fbc-9f41-16dc72f95352 0005ab2d-a790-44ce-8887-a571fca64d80 a0d6c864-e82d-437c-a3de-9950070223a1    False   \n",
       "73b710cd-649a-438e-a354-618f494bee86 000d665c-7325-4b0f-a4d1-16c7c4c5b4b3 0f3a9e8c-df77-47c8-8e2a-7d6aa64c73dd    False   \n",
       "                                     001b469f-d7cb-4c00-91c4-f14657febd8d 0f3a9e8c-df77-47c8-8e2a-7d6aa64c73dd    False   \n",
       "aba80728-356a-4ff0-a6ee-3208d30b9236 0020badd-2a0b-4b47-a355-61724a954f85 8baf9080-7319-439d-a423-4f990b34f77f    False   \n",
       "\n",
       "                                                                                                                prev_emails  \\\n",
       "email_id                             contact_id                           campaign_id                                         \n",
       "f688553a-8788-48cf-bf9e-24b1c22e4d7c 0005ab2d-a790-44ce-8887-a571fca64d80 a0d6c864-e82d-437c-a3de-9950070223a1            0   \n",
       "bd4f138b-90f6-4fbc-9f41-16dc72f95352 0005ab2d-a790-44ce-8887-a571fca64d80 a0d6c864-e82d-437c-a3de-9950070223a1            0   \n",
       "73b710cd-649a-438e-a354-618f494bee86 000d665c-7325-4b0f-a4d1-16c7c4c5b4b3 0f3a9e8c-df77-47c8-8e2a-7d6aa64c73dd            0   \n",
       "                                     001b469f-d7cb-4c00-91c4-f14657febd8d 0f3a9e8c-df77-47c8-8e2a-7d6aa64c73dd            0   \n",
       "aba80728-356a-4ff0-a6ee-3208d30b9236 0020badd-2a0b-4b47-a355-61724a954f85 8baf9080-7319-439d-a423-4f990b34f77f            0   \n",
       "\n",
       "                                                                                                                hour_of_week  \n",
       "email_id                             contact_id                           campaign_id                                         \n",
       "f688553a-8788-48cf-bf9e-24b1c22e4d7c 0005ab2d-a790-44ce-8887-a571fca64d80 a0d6c864-e82d-437c-a3de-9950070223a1            73  \n",
       "bd4f138b-90f6-4fbc-9f41-16dc72f95352 0005ab2d-a790-44ce-8887-a571fca64d80 a0d6c864-e82d-437c-a3de-9950070223a1            96  \n",
       "73b710cd-649a-438e-a354-618f494bee86 000d665c-7325-4b0f-a4d1-16c7c4c5b4b3 0f3a9e8c-df77-47c8-8e2a-7d6aa64c73dd            74  \n",
       "                                     001b469f-d7cb-4c00-91c4-f14657febd8d 0f3a9e8c-df77-47c8-8e2a-7d6aa64c73dd            70  \n",
       "aba80728-356a-4ff0-a6ee-3208d30b9236 0020badd-2a0b-4b47-a355-61724a954f85 8baf9080-7319-439d-a423-4f990b34f77f            37  "
      ]
     },
     "execution_count": 309,
     "metadata": {},
     "output_type": "execute_result"
    }
   ],
   "source": [
    "df.head()"
   ]
  },
  {
   "cell_type": "code",
   "execution_count": 325,
   "id": "1297e82b",
   "metadata": {},
   "outputs": [
    {
     "data": {
      "text/plain": [
       "seniority\n",
       "VP/CXO             0.000000\n",
       "Owner              0.000000\n",
       "CEO                0.000000\n",
       "Officer            0.000000\n",
       "Non-Management     0.000000\n",
       "Junior             0.000000\n",
       "VP / CXO           0.000000\n",
       "CLO                0.000000\n",
       "COO                0.000000\n",
       "Executive          0.017544\n",
       "Senior             0.026455\n",
       "CIO                0.027211\n",
       "Manager            0.028653\n",
       "CXO                0.034372\n",
       "Director           0.036507\n",
       "CHRO               0.037037\n",
       "Assistant          0.037594\n",
       "VP                 0.040212\n",
       "Head               0.049808\n",
       "CFO                0.058824\n",
       "Lead               0.063128\n",
       "President          0.071429\n",
       "CISO               0.083333\n",
       "CDO                0.111111\n",
       "Director / Head    0.333333\n",
       "Name: success, dtype: float64"
      ]
     },
     "execution_count": 325,
     "metadata": {},
     "output_type": "execute_result"
    }
   ],
   "source": [
    "df.groupby('seniority')['success'].mean().sort_values()"
   ]
  },
  {
   "cell_type": "code",
   "execution_count": 322,
   "id": "ae20190a",
   "metadata": {},
   "outputs": [],
   "source": [
    "DELIVERED = \"delivered\"\n",
    "SUCCESS_COL, PREV_EMAILS_COL, HOURS_OF_WEEK_COL = \"success\", \"prev_emails\", \"hours_of_week\"\n",
    "EMAIL_ID_COL, CONTACT_ID_COL, CAMPAIGN_ID_COL, COMPANY_ID_COL = \"email_id\", \"contact_id\", \"campaign_id\", \"company_id\"\n",
    "TIMESTAMP_COL, EVENT_COL = \"timestamp\", \"event\"\n",
    "\n",
    "\n",
    "def create_train_data(engagements_df, companies_df, contacts_df) -> pd.DataFrame:\n",
    "    index_columns = [EMAIL_ID_COL, CONTACT_ID_COL, CAMPAIGN_ID_COL]\n",
    "    engagements_df = engagements_df.sort_values(TIMESTAMP_COL)\n",
    "\n",
    "    engaged_prospects = engagements_df[engagements_df[EVENT_COL] != DELIVERED] \\\n",
    "        .set_index(index_columns).index.drop_duplicates()\n",
    "\n",
    "    df = engagements_df[engagements_df[EVENT_COL] == DELIVERED].merge(contacts_df, on=CONTACT_ID_COL, how=\"left\") \\\n",
    "        .merge(companies_df, on=COMPANY_ID_COL, how=\"left\")\n",
    "    df = df.set_index(index_columns)\n",
    "    df[SUCCESS_COL] = df.index.isin(engaged_prospects)\n",
    "    df[PREV_EMAILS_COL] = df.groupby(index_columns).size() - 1\n",
    "    df[HOURS_OF_WEEK_COL] = df.timestamp.apply(lambda t: 24 * t.weekday() + t.hour)\n",
    "    df = df.reset_index(drop=True)\n",
    "    df = df.drop([EVENT_COL, TIMESTAMP_COL, COMPANY_ID_COL], axis=1)\n",
    "    return df"
   ]
  },
  {
   "cell_type": "code",
   "execution_count": 323,
   "id": "3f68af98",
   "metadata": {},
   "outputs": [
    {
     "data": {
      "text/html": [
       "<div>\n",
       "<style scoped>\n",
       "    .dataframe tbody tr th:only-of-type {\n",
       "        vertical-align: middle;\n",
       "    }\n",
       "\n",
       "    .dataframe tbody tr th {\n",
       "        vertical-align: top;\n",
       "    }\n",
       "\n",
       "    .dataframe thead th {\n",
       "        text-align: right;\n",
       "    }\n",
       "</style>\n",
       "<table border=\"1\" class=\"dataframe\">\n",
       "  <thead>\n",
       "    <tr style=\"text-align: right;\">\n",
       "      <th></th>\n",
       "      <th>position</th>\n",
       "      <th>seniority</th>\n",
       "      <th>function</th>\n",
       "      <th>country</th>\n",
       "      <th>state</th>\n",
       "      <th>size</th>\n",
       "      <th>linkedin_industry</th>\n",
       "      <th>success</th>\n",
       "      <th>prev_emails</th>\n",
       "      <th>hours_of_week</th>\n",
       "    </tr>\n",
       "  </thead>\n",
       "  <tbody>\n",
       "    <tr>\n",
       "      <th>0</th>\n",
       "      <td>Vice President Human Resources</td>\n",
       "      <td>VP</td>\n",
       "      <td>HR</td>\n",
       "      <td>us</td>\n",
       "      <td>tx</td>\n",
       "      <td>1,001-5,000</td>\n",
       "      <td>Oil &amp; Energy</td>\n",
       "      <td>False</td>\n",
       "      <td>0</td>\n",
       "      <td>37</td>\n",
       "    </tr>\n",
       "    <tr>\n",
       "      <th>1</th>\n",
       "      <td>Assistant Vice President, Human Resources Manager</td>\n",
       "      <td>VP</td>\n",
       "      <td>HR</td>\n",
       "      <td>us</td>\n",
       "      <td>ma</td>\n",
       "      <td>51-200</td>\n",
       "      <td>Financial Services</td>\n",
       "      <td>False</td>\n",
       "      <td>0</td>\n",
       "      <td>37</td>\n",
       "    </tr>\n",
       "    <tr>\n",
       "      <th>2</th>\n",
       "      <td>AVP, Human Resource Manager</td>\n",
       "      <td>VP</td>\n",
       "      <td>HR</td>\n",
       "      <td>us</td>\n",
       "      <td>tn</td>\n",
       "      <td>201-500</td>\n",
       "      <td>Banking</td>\n",
       "      <td>False</td>\n",
       "      <td>0</td>\n",
       "      <td>37</td>\n",
       "    </tr>\n",
       "    <tr>\n",
       "      <th>3</th>\n",
       "      <td>Vice President - HR Product Group</td>\n",
       "      <td>VP</td>\n",
       "      <td>HR,Product</td>\n",
       "      <td>us</td>\n",
       "      <td>pa</td>\n",
       "      <td>51-200</td>\n",
       "      <td>Computer Software</td>\n",
       "      <td>False</td>\n",
       "      <td>0</td>\n",
       "      <td>37</td>\n",
       "    </tr>\n",
       "    <tr>\n",
       "      <th>4</th>\n",
       "      <td>Interim Human Resources Director</td>\n",
       "      <td>Director</td>\n",
       "      <td>HR</td>\n",
       "      <td>us</td>\n",
       "      <td>mn</td>\n",
       "      <td>1,001-5,000</td>\n",
       "      <td>Packaging and Containers</td>\n",
       "      <td>False</td>\n",
       "      <td>0</td>\n",
       "      <td>37</td>\n",
       "    </tr>\n",
       "    <tr>\n",
       "      <th>...</th>\n",
       "      <td>...</td>\n",
       "      <td>...</td>\n",
       "      <td>...</td>\n",
       "      <td>...</td>\n",
       "      <td>...</td>\n",
       "      <td>...</td>\n",
       "      <td>...</td>\n",
       "      <td>...</td>\n",
       "      <td>...</td>\n",
       "      <td>...</td>\n",
       "    </tr>\n",
       "    <tr>\n",
       "      <th>20386</th>\n",
       "      <td>Director of IT Infrastructure &amp; Security</td>\n",
       "      <td>Director</td>\n",
       "      <td>IT,Security</td>\n",
       "      <td>us</td>\n",
       "      <td>fl</td>\n",
       "      <td>5,001-10,000</td>\n",
       "      <td>Automotive</td>\n",
       "      <td>False</td>\n",
       "      <td>0</td>\n",
       "      <td>123</td>\n",
       "    </tr>\n",
       "    <tr>\n",
       "      <th>20387</th>\n",
       "      <td>IT Manager, Data Architecture</td>\n",
       "      <td>Manager</td>\n",
       "      <td>IT</td>\n",
       "      <td>us</td>\n",
       "      <td>tn</td>\n",
       "      <td>10,000+</td>\n",
       "      <td>Automotive</td>\n",
       "      <td>False</td>\n",
       "      <td>0</td>\n",
       "      <td>123</td>\n",
       "    </tr>\n",
       "    <tr>\n",
       "      <th>20388</th>\n",
       "      <td>Director, Information Technology PMO</td>\n",
       "      <td>Director</td>\n",
       "      <td>IT,Technology</td>\n",
       "      <td>us</td>\n",
       "      <td>ga</td>\n",
       "      <td>5,001-10,000</td>\n",
       "      <td>Financial Services</td>\n",
       "      <td>False</td>\n",
       "      <td>0</td>\n",
       "      <td>124</td>\n",
       "    </tr>\n",
       "    <tr>\n",
       "      <th>20389</th>\n",
       "      <td>Senior Director Information Technology</td>\n",
       "      <td>Director</td>\n",
       "      <td>IT,Technology</td>\n",
       "      <td>us</td>\n",
       "      <td>fl</td>\n",
       "      <td>1,001-5,000</td>\n",
       "      <td>Food Production</td>\n",
       "      <td>False</td>\n",
       "      <td>0</td>\n",
       "      <td>124</td>\n",
       "    </tr>\n",
       "    <tr>\n",
       "      <th>20390</th>\n",
       "      <td>Information Technology Manager</td>\n",
       "      <td>Manager</td>\n",
       "      <td>IT,Technology</td>\n",
       "      <td>us</td>\n",
       "      <td>tn</td>\n",
       "      <td>10,000+</td>\n",
       "      <td>Real Estate</td>\n",
       "      <td>False</td>\n",
       "      <td>0</td>\n",
       "      <td>124</td>\n",
       "    </tr>\n",
       "  </tbody>\n",
       "</table>\n",
       "<p>20391 rows × 10 columns</p>\n",
       "</div>"
      ],
      "text/plain": [
       "                                                position seniority  \\\n",
       "0                         Vice President Human Resources        VP   \n",
       "1      Assistant Vice President, Human Resources Manager        VP   \n",
       "2                            AVP, Human Resource Manager        VP   \n",
       "3                      Vice President - HR Product Group        VP   \n",
       "4                       Interim Human Resources Director  Director   \n",
       "...                                                  ...       ...   \n",
       "20386           Director of IT Infrastructure & Security  Director   \n",
       "20387                      IT Manager, Data Architecture   Manager   \n",
       "20388               Director, Information Technology PMO  Director   \n",
       "20389             Senior Director Information Technology  Director   \n",
       "20390                     Information Technology Manager   Manager   \n",
       "\n",
       "            function country state          size         linkedin_industry  \\\n",
       "0                 HR      us    tx   1,001-5,000              Oil & Energy   \n",
       "1                 HR      us    ma        51-200        Financial Services   \n",
       "2                 HR      us    tn       201-500                   Banking   \n",
       "3         HR,Product      us    pa        51-200         Computer Software   \n",
       "4                 HR      us    mn   1,001-5,000  Packaging and Containers   \n",
       "...              ...     ...   ...           ...                       ...   \n",
       "20386    IT,Security      us    fl  5,001-10,000                Automotive   \n",
       "20387             IT      us    tn       10,000+                Automotive   \n",
       "20388  IT,Technology      us    ga  5,001-10,000        Financial Services   \n",
       "20389  IT,Technology      us    fl   1,001-5,000           Food Production   \n",
       "20390  IT,Technology      us    tn       10,000+               Real Estate   \n",
       "\n",
       "       success  prev_emails  hours_of_week  \n",
       "0        False            0             37  \n",
       "1        False            0             37  \n",
       "2        False            0             37  \n",
       "3        False            0             37  \n",
       "4        False            0             37  \n",
       "...        ...          ...            ...  \n",
       "20386    False            0            123  \n",
       "20387    False            0            123  \n",
       "20388    False            0            124  \n",
       "20389    False            0            124  \n",
       "20390    False            0            124  \n",
       "\n",
       "[20391 rows x 10 columns]"
      ]
     },
     "execution_count": 323,
     "metadata": {},
     "output_type": "execute_result"
    }
   ],
   "source": [
    "create_train_data(engagements_df, companies_df, contacts_df)"
   ]
  },
  {
   "cell_type": "code",
   "execution_count": 339,
   "id": "0cf603f3",
   "metadata": {},
   "outputs": [
    {
     "data": {
      "text/plain": [
       "['1,001-5,000',\n",
       " '201-500',\n",
       " '51-200',\n",
       " '501-1,000',\n",
       " '10,000+',\n",
       " '5,001-10,000',\n",
       " nan,\n",
       " '1-10']"
      ]
     },
     "execution_count": 339,
     "metadata": {},
     "output_type": "execute_result"
    }
   ],
   "source": [
    "list(df['size'].unique())"
   ]
  },
  {
   "cell_type": "code",
   "execution_count": 341,
   "id": "01a39402",
   "metadata": {},
   "outputs": [
    {
     "data": {
      "text/plain": [
       "Director           7752\n",
       "VP                 5471\n",
       "CXO                2182\n",
       "Manager            2094\n",
       "Head                783\n",
       "Lead                697\n",
       "CIO                 588\n",
       "Senior              189\n",
       "Assistant           133\n",
       "Executive           114\n",
       "CHRO                 81\n",
       "CLO                  60\n",
       "CISO                 24\n",
       "Officer              21\n",
       "CFO                  17\n",
       "Non-Management       16\n",
       "VP/CXO               15\n",
       "President            14\n",
       "Owner                14\n",
       "CEO                  12\n",
       "CDO                   9\n",
       "COO                   6\n",
       "Director / Head       3\n",
       "Junior                3\n",
       "VP / CXO              2\n",
       "Name: seniority, dtype: int64"
      ]
     },
     "execution_count": 341,
     "metadata": {},
     "output_type": "execute_result"
    }
   ],
   "source": [
    "df['seniority'].value_counts()"
   ]
  },
  {
   "cell_type": "code",
   "execution_count": 366,
   "id": "1d8cbd3c",
   "metadata": {},
   "outputs": [
    {
     "data": {
      "text/html": [
       "<div>\n",
       "<style scoped>\n",
       "    .dataframe tbody tr th:only-of-type {\n",
       "        vertical-align: middle;\n",
       "    }\n",
       "\n",
       "    .dataframe tbody tr th {\n",
       "        vertical-align: top;\n",
       "    }\n",
       "\n",
       "    .dataframe thead th {\n",
       "        text-align: right;\n",
       "    }\n",
       "</style>\n",
       "<table border=\"1\" class=\"dataframe\">\n",
       "  <thead>\n",
       "    <tr style=\"text-align: right;\">\n",
       "      <th></th>\n",
       "      <th></th>\n",
       "      <th></th>\n",
       "      <th>timestamp</th>\n",
       "      <th>event</th>\n",
       "      <th>position</th>\n",
       "      <th>seniority</th>\n",
       "      <th>function</th>\n",
       "      <th>company_id</th>\n",
       "      <th>country</th>\n",
       "      <th>state</th>\n",
       "      <th>size</th>\n",
       "      <th>linkedin_industry</th>\n",
       "      <th>success</th>\n",
       "      <th>prev_emails</th>\n",
       "      <th>hour_of_week</th>\n",
       "    </tr>\n",
       "    <tr>\n",
       "      <th>email_id</th>\n",
       "      <th>contact_id</th>\n",
       "      <th>campaign_id</th>\n",
       "      <th></th>\n",
       "      <th></th>\n",
       "      <th></th>\n",
       "      <th></th>\n",
       "      <th></th>\n",
       "      <th></th>\n",
       "      <th></th>\n",
       "      <th></th>\n",
       "      <th></th>\n",
       "      <th></th>\n",
       "      <th></th>\n",
       "      <th></th>\n",
       "      <th></th>\n",
       "    </tr>\n",
       "  </thead>\n",
       "  <tbody>\n",
       "    <tr>\n",
       "      <th>f688553a-8788-48cf-bf9e-24b1c22e4d7c</th>\n",
       "      <th>0005ab2d-a790-44ce-8887-a571fca64d80</th>\n",
       "      <th>a0d6c864-e82d-437c-a3de-9950070223a1</th>\n",
       "      <td>2020-07-09 01:52:22</td>\n",
       "      <td>delivered</td>\n",
       "      <td>Chief Information Officer</td>\n",
       "      <td>CXO</td>\n",
       "      <td>IT</td>\n",
       "      <td>202f7f5a-1f0c-4924-9e4a-5100a15962cc</td>\n",
       "      <td>ca</td>\n",
       "      <td>ca-on</td>\n",
       "      <td>1,001-5,000</td>\n",
       "      <td>Insurance</td>\n",
       "      <td>False</td>\n",
       "      <td>0</td>\n",
       "      <td>73</td>\n",
       "    </tr>\n",
       "    <tr>\n",
       "      <th>bd4f138b-90f6-4fbc-9f41-16dc72f95352</th>\n",
       "      <th>0005ab2d-a790-44ce-8887-a571fca64d80</th>\n",
       "      <th>a0d6c864-e82d-437c-a3de-9950070223a1</th>\n",
       "      <td>2020-07-03 00:08:54</td>\n",
       "      <td>delivered</td>\n",
       "      <td>Chief Information Officer</td>\n",
       "      <td>CXO</td>\n",
       "      <td>IT</td>\n",
       "      <td>202f7f5a-1f0c-4924-9e4a-5100a15962cc</td>\n",
       "      <td>ca</td>\n",
       "      <td>ca-on</td>\n",
       "      <td>1,001-5,000</td>\n",
       "      <td>Insurance</td>\n",
       "      <td>False</td>\n",
       "      <td>0</td>\n",
       "      <td>96</td>\n",
       "    </tr>\n",
       "    <tr>\n",
       "      <th rowspan=\"2\" valign=\"top\">73b710cd-649a-438e-a354-618f494bee86</th>\n",
       "      <th>000d665c-7325-4b0f-a4d1-16c7c4c5b4b3</th>\n",
       "      <th>0f3a9e8c-df77-47c8-8e2a-7d6aa64c73dd</th>\n",
       "      <td>2020-06-11 02:40:03</td>\n",
       "      <td>delivered</td>\n",
       "      <td>Vice President - Global Supply Chain and Human...</td>\n",
       "      <td>VP</td>\n",
       "      <td>HR</td>\n",
       "      <td>c592a266-a358-45dd-97ae-32a82db94d11</td>\n",
       "      <td>NaN</td>\n",
       "      <td>NaN</td>\n",
       "      <td>201-500</td>\n",
       "      <td>Consumer Goods</td>\n",
       "      <td>False</td>\n",
       "      <td>0</td>\n",
       "      <td>74</td>\n",
       "    </tr>\n",
       "    <tr>\n",
       "      <th>001b469f-d7cb-4c00-91c4-f14657febd8d</th>\n",
       "      <th>0f3a9e8c-df77-47c8-8e2a-7d6aa64c73dd</th>\n",
       "      <td>2020-06-10 22:42:03</td>\n",
       "      <td>delivered</td>\n",
       "      <td>Director of Human Resources</td>\n",
       "      <td>Director</td>\n",
       "      <td>HR</td>\n",
       "      <td>51de6cc1-aac2-441f-bce0-6a468a284d29</td>\n",
       "      <td>NaN</td>\n",
       "      <td>NaN</td>\n",
       "      <td>51-200</td>\n",
       "      <td>Architecture &amp; Planning</td>\n",
       "      <td>False</td>\n",
       "      <td>0</td>\n",
       "      <td>70</td>\n",
       "    </tr>\n",
       "    <tr>\n",
       "      <th>aba80728-356a-4ff0-a6ee-3208d30b9236</th>\n",
       "      <th>0020badd-2a0b-4b47-a355-61724a954f85</th>\n",
       "      <th>8baf9080-7319-439d-a423-4f990b34f77f</th>\n",
       "      <td>2020-04-07 13:56:41</td>\n",
       "      <td>delivered</td>\n",
       "      <td>Vice President, Human Resource Operations</td>\n",
       "      <td>VP</td>\n",
       "      <td>HR,Operations</td>\n",
       "      <td>13317617-14e2-4e4c-a1be-0623e0094dcb</td>\n",
       "      <td>us</td>\n",
       "      <td>ny</td>\n",
       "      <td>501-1,000</td>\n",
       "      <td>Banking</td>\n",
       "      <td>False</td>\n",
       "      <td>0</td>\n",
       "      <td>37</td>\n",
       "    </tr>\n",
       "  </tbody>\n",
       "</table>\n",
       "</div>"
      ],
      "text/plain": [
       "                                                                                                                         timestamp  \\\n",
       "email_id                             contact_id                           campaign_id                                                \n",
       "f688553a-8788-48cf-bf9e-24b1c22e4d7c 0005ab2d-a790-44ce-8887-a571fca64d80 a0d6c864-e82d-437c-a3de-9950070223a1 2020-07-09 01:52:22   \n",
       "bd4f138b-90f6-4fbc-9f41-16dc72f95352 0005ab2d-a790-44ce-8887-a571fca64d80 a0d6c864-e82d-437c-a3de-9950070223a1 2020-07-03 00:08:54   \n",
       "73b710cd-649a-438e-a354-618f494bee86 000d665c-7325-4b0f-a4d1-16c7c4c5b4b3 0f3a9e8c-df77-47c8-8e2a-7d6aa64c73dd 2020-06-11 02:40:03   \n",
       "                                     001b469f-d7cb-4c00-91c4-f14657febd8d 0f3a9e8c-df77-47c8-8e2a-7d6aa64c73dd 2020-06-10 22:42:03   \n",
       "aba80728-356a-4ff0-a6ee-3208d30b9236 0020badd-2a0b-4b47-a355-61724a954f85 8baf9080-7319-439d-a423-4f990b34f77f 2020-04-07 13:56:41   \n",
       "\n",
       "                                                                                                                    event  \\\n",
       "email_id                             contact_id                           campaign_id                                       \n",
       "f688553a-8788-48cf-bf9e-24b1c22e4d7c 0005ab2d-a790-44ce-8887-a571fca64d80 a0d6c864-e82d-437c-a3de-9950070223a1  delivered   \n",
       "bd4f138b-90f6-4fbc-9f41-16dc72f95352 0005ab2d-a790-44ce-8887-a571fca64d80 a0d6c864-e82d-437c-a3de-9950070223a1  delivered   \n",
       "73b710cd-649a-438e-a354-618f494bee86 000d665c-7325-4b0f-a4d1-16c7c4c5b4b3 0f3a9e8c-df77-47c8-8e2a-7d6aa64c73dd  delivered   \n",
       "                                     001b469f-d7cb-4c00-91c4-f14657febd8d 0f3a9e8c-df77-47c8-8e2a-7d6aa64c73dd  delivered   \n",
       "aba80728-356a-4ff0-a6ee-3208d30b9236 0020badd-2a0b-4b47-a355-61724a954f85 8baf9080-7319-439d-a423-4f990b34f77f  delivered   \n",
       "\n",
       "                                                                                                                                                         position  \\\n",
       "email_id                             contact_id                           campaign_id                                                                               \n",
       "f688553a-8788-48cf-bf9e-24b1c22e4d7c 0005ab2d-a790-44ce-8887-a571fca64d80 a0d6c864-e82d-437c-a3de-9950070223a1                          Chief Information Officer   \n",
       "bd4f138b-90f6-4fbc-9f41-16dc72f95352 0005ab2d-a790-44ce-8887-a571fca64d80 a0d6c864-e82d-437c-a3de-9950070223a1                          Chief Information Officer   \n",
       "73b710cd-649a-438e-a354-618f494bee86 000d665c-7325-4b0f-a4d1-16c7c4c5b4b3 0f3a9e8c-df77-47c8-8e2a-7d6aa64c73dd  Vice President - Global Supply Chain and Human...   \n",
       "                                     001b469f-d7cb-4c00-91c4-f14657febd8d 0f3a9e8c-df77-47c8-8e2a-7d6aa64c73dd                        Director of Human Resources   \n",
       "aba80728-356a-4ff0-a6ee-3208d30b9236 0020badd-2a0b-4b47-a355-61724a954f85 8baf9080-7319-439d-a423-4f990b34f77f          Vice President, Human Resource Operations   \n",
       "\n",
       "                                                                                                               seniority  \\\n",
       "email_id                             contact_id                           campaign_id                                      \n",
       "f688553a-8788-48cf-bf9e-24b1c22e4d7c 0005ab2d-a790-44ce-8887-a571fca64d80 a0d6c864-e82d-437c-a3de-9950070223a1       CXO   \n",
       "bd4f138b-90f6-4fbc-9f41-16dc72f95352 0005ab2d-a790-44ce-8887-a571fca64d80 a0d6c864-e82d-437c-a3de-9950070223a1       CXO   \n",
       "73b710cd-649a-438e-a354-618f494bee86 000d665c-7325-4b0f-a4d1-16c7c4c5b4b3 0f3a9e8c-df77-47c8-8e2a-7d6aa64c73dd        VP   \n",
       "                                     001b469f-d7cb-4c00-91c4-f14657febd8d 0f3a9e8c-df77-47c8-8e2a-7d6aa64c73dd  Director   \n",
       "aba80728-356a-4ff0-a6ee-3208d30b9236 0020badd-2a0b-4b47-a355-61724a954f85 8baf9080-7319-439d-a423-4f990b34f77f        VP   \n",
       "\n",
       "                                                                                                                     function  \\\n",
       "email_id                             contact_id                           campaign_id                                           \n",
       "f688553a-8788-48cf-bf9e-24b1c22e4d7c 0005ab2d-a790-44ce-8887-a571fca64d80 a0d6c864-e82d-437c-a3de-9950070223a1             IT   \n",
       "bd4f138b-90f6-4fbc-9f41-16dc72f95352 0005ab2d-a790-44ce-8887-a571fca64d80 a0d6c864-e82d-437c-a3de-9950070223a1             IT   \n",
       "73b710cd-649a-438e-a354-618f494bee86 000d665c-7325-4b0f-a4d1-16c7c4c5b4b3 0f3a9e8c-df77-47c8-8e2a-7d6aa64c73dd             HR   \n",
       "                                     001b469f-d7cb-4c00-91c4-f14657febd8d 0f3a9e8c-df77-47c8-8e2a-7d6aa64c73dd             HR   \n",
       "aba80728-356a-4ff0-a6ee-3208d30b9236 0020badd-2a0b-4b47-a355-61724a954f85 8baf9080-7319-439d-a423-4f990b34f77f  HR,Operations   \n",
       "\n",
       "                                                                                                                                          company_id  \\\n",
       "email_id                             contact_id                           campaign_id                                                                  \n",
       "f688553a-8788-48cf-bf9e-24b1c22e4d7c 0005ab2d-a790-44ce-8887-a571fca64d80 a0d6c864-e82d-437c-a3de-9950070223a1  202f7f5a-1f0c-4924-9e4a-5100a15962cc   \n",
       "bd4f138b-90f6-4fbc-9f41-16dc72f95352 0005ab2d-a790-44ce-8887-a571fca64d80 a0d6c864-e82d-437c-a3de-9950070223a1  202f7f5a-1f0c-4924-9e4a-5100a15962cc   \n",
       "73b710cd-649a-438e-a354-618f494bee86 000d665c-7325-4b0f-a4d1-16c7c4c5b4b3 0f3a9e8c-df77-47c8-8e2a-7d6aa64c73dd  c592a266-a358-45dd-97ae-32a82db94d11   \n",
       "                                     001b469f-d7cb-4c00-91c4-f14657febd8d 0f3a9e8c-df77-47c8-8e2a-7d6aa64c73dd  51de6cc1-aac2-441f-bce0-6a468a284d29   \n",
       "aba80728-356a-4ff0-a6ee-3208d30b9236 0020badd-2a0b-4b47-a355-61724a954f85 8baf9080-7319-439d-a423-4f990b34f77f  13317617-14e2-4e4c-a1be-0623e0094dcb   \n",
       "\n",
       "                                                                                                               country  \\\n",
       "email_id                             contact_id                           campaign_id                                    \n",
       "f688553a-8788-48cf-bf9e-24b1c22e4d7c 0005ab2d-a790-44ce-8887-a571fca64d80 a0d6c864-e82d-437c-a3de-9950070223a1      ca   \n",
       "bd4f138b-90f6-4fbc-9f41-16dc72f95352 0005ab2d-a790-44ce-8887-a571fca64d80 a0d6c864-e82d-437c-a3de-9950070223a1      ca   \n",
       "73b710cd-649a-438e-a354-618f494bee86 000d665c-7325-4b0f-a4d1-16c7c4c5b4b3 0f3a9e8c-df77-47c8-8e2a-7d6aa64c73dd     NaN   \n",
       "                                     001b469f-d7cb-4c00-91c4-f14657febd8d 0f3a9e8c-df77-47c8-8e2a-7d6aa64c73dd     NaN   \n",
       "aba80728-356a-4ff0-a6ee-3208d30b9236 0020badd-2a0b-4b47-a355-61724a954f85 8baf9080-7319-439d-a423-4f990b34f77f      us   \n",
       "\n",
       "                                                                                                                state  \\\n",
       "email_id                             contact_id                           campaign_id                                   \n",
       "f688553a-8788-48cf-bf9e-24b1c22e4d7c 0005ab2d-a790-44ce-8887-a571fca64d80 a0d6c864-e82d-437c-a3de-9950070223a1  ca-on   \n",
       "bd4f138b-90f6-4fbc-9f41-16dc72f95352 0005ab2d-a790-44ce-8887-a571fca64d80 a0d6c864-e82d-437c-a3de-9950070223a1  ca-on   \n",
       "73b710cd-649a-438e-a354-618f494bee86 000d665c-7325-4b0f-a4d1-16c7c4c5b4b3 0f3a9e8c-df77-47c8-8e2a-7d6aa64c73dd    NaN   \n",
       "                                     001b469f-d7cb-4c00-91c4-f14657febd8d 0f3a9e8c-df77-47c8-8e2a-7d6aa64c73dd    NaN   \n",
       "aba80728-356a-4ff0-a6ee-3208d30b9236 0020badd-2a0b-4b47-a355-61724a954f85 8baf9080-7319-439d-a423-4f990b34f77f     ny   \n",
       "\n",
       "                                                                                                                       size  \\\n",
       "email_id                             contact_id                           campaign_id                                         \n",
       "f688553a-8788-48cf-bf9e-24b1c22e4d7c 0005ab2d-a790-44ce-8887-a571fca64d80 a0d6c864-e82d-437c-a3de-9950070223a1  1,001-5,000   \n",
       "bd4f138b-90f6-4fbc-9f41-16dc72f95352 0005ab2d-a790-44ce-8887-a571fca64d80 a0d6c864-e82d-437c-a3de-9950070223a1  1,001-5,000   \n",
       "73b710cd-649a-438e-a354-618f494bee86 000d665c-7325-4b0f-a4d1-16c7c4c5b4b3 0f3a9e8c-df77-47c8-8e2a-7d6aa64c73dd      201-500   \n",
       "                                     001b469f-d7cb-4c00-91c4-f14657febd8d 0f3a9e8c-df77-47c8-8e2a-7d6aa64c73dd       51-200   \n",
       "aba80728-356a-4ff0-a6ee-3208d30b9236 0020badd-2a0b-4b47-a355-61724a954f85 8baf9080-7319-439d-a423-4f990b34f77f    501-1,000   \n",
       "\n",
       "                                                                                                                      linkedin_industry  \\\n",
       "email_id                             contact_id                           campaign_id                                                     \n",
       "f688553a-8788-48cf-bf9e-24b1c22e4d7c 0005ab2d-a790-44ce-8887-a571fca64d80 a0d6c864-e82d-437c-a3de-9950070223a1                Insurance   \n",
       "bd4f138b-90f6-4fbc-9f41-16dc72f95352 0005ab2d-a790-44ce-8887-a571fca64d80 a0d6c864-e82d-437c-a3de-9950070223a1                Insurance   \n",
       "73b710cd-649a-438e-a354-618f494bee86 000d665c-7325-4b0f-a4d1-16c7c4c5b4b3 0f3a9e8c-df77-47c8-8e2a-7d6aa64c73dd           Consumer Goods   \n",
       "                                     001b469f-d7cb-4c00-91c4-f14657febd8d 0f3a9e8c-df77-47c8-8e2a-7d6aa64c73dd  Architecture & Planning   \n",
       "aba80728-356a-4ff0-a6ee-3208d30b9236 0020badd-2a0b-4b47-a355-61724a954f85 8baf9080-7319-439d-a423-4f990b34f77f                  Banking   \n",
       "\n",
       "                                                                                                                success  \\\n",
       "email_id                             contact_id                           campaign_id                                     \n",
       "f688553a-8788-48cf-bf9e-24b1c22e4d7c 0005ab2d-a790-44ce-8887-a571fca64d80 a0d6c864-e82d-437c-a3de-9950070223a1    False   \n",
       "bd4f138b-90f6-4fbc-9f41-16dc72f95352 0005ab2d-a790-44ce-8887-a571fca64d80 a0d6c864-e82d-437c-a3de-9950070223a1    False   \n",
       "73b710cd-649a-438e-a354-618f494bee86 000d665c-7325-4b0f-a4d1-16c7c4c5b4b3 0f3a9e8c-df77-47c8-8e2a-7d6aa64c73dd    False   \n",
       "                                     001b469f-d7cb-4c00-91c4-f14657febd8d 0f3a9e8c-df77-47c8-8e2a-7d6aa64c73dd    False   \n",
       "aba80728-356a-4ff0-a6ee-3208d30b9236 0020badd-2a0b-4b47-a355-61724a954f85 8baf9080-7319-439d-a423-4f990b34f77f    False   \n",
       "\n",
       "                                                                                                                prev_emails  \\\n",
       "email_id                             contact_id                           campaign_id                                         \n",
       "f688553a-8788-48cf-bf9e-24b1c22e4d7c 0005ab2d-a790-44ce-8887-a571fca64d80 a0d6c864-e82d-437c-a3de-9950070223a1            0   \n",
       "bd4f138b-90f6-4fbc-9f41-16dc72f95352 0005ab2d-a790-44ce-8887-a571fca64d80 a0d6c864-e82d-437c-a3de-9950070223a1            0   \n",
       "73b710cd-649a-438e-a354-618f494bee86 000d665c-7325-4b0f-a4d1-16c7c4c5b4b3 0f3a9e8c-df77-47c8-8e2a-7d6aa64c73dd            0   \n",
       "                                     001b469f-d7cb-4c00-91c4-f14657febd8d 0f3a9e8c-df77-47c8-8e2a-7d6aa64c73dd            0   \n",
       "aba80728-356a-4ff0-a6ee-3208d30b9236 0020badd-2a0b-4b47-a355-61724a954f85 8baf9080-7319-439d-a423-4f990b34f77f            0   \n",
       "\n",
       "                                                                                                                hour_of_week  \n",
       "email_id                             contact_id                           campaign_id                                         \n",
       "f688553a-8788-48cf-bf9e-24b1c22e4d7c 0005ab2d-a790-44ce-8887-a571fca64d80 a0d6c864-e82d-437c-a3de-9950070223a1            73  \n",
       "bd4f138b-90f6-4fbc-9f41-16dc72f95352 0005ab2d-a790-44ce-8887-a571fca64d80 a0d6c864-e82d-437c-a3de-9950070223a1            96  \n",
       "73b710cd-649a-438e-a354-618f494bee86 000d665c-7325-4b0f-a4d1-16c7c4c5b4b3 0f3a9e8c-df77-47c8-8e2a-7d6aa64c73dd            74  \n",
       "                                     001b469f-d7cb-4c00-91c4-f14657febd8d 0f3a9e8c-df77-47c8-8e2a-7d6aa64c73dd            70  \n",
       "aba80728-356a-4ff0-a6ee-3208d30b9236 0020badd-2a0b-4b47-a355-61724a954f85 8baf9080-7319-439d-a423-4f990b34f77f            37  "
      ]
     },
     "execution_count": 366,
     "metadata": {},
     "output_type": "execute_result"
    }
   ],
   "source": [
    "df.head()"
   ]
  },
  {
   "cell_type": "markdown",
   "id": "71621b9f",
   "metadata": {},
   "source": [
    "## more eda"
   ]
  },
  {
   "cell_type": "code",
   "execution_count": 406,
   "id": "57771007",
   "metadata": {},
   "outputs": [],
   "source": [
    "def get_boxplot_of_most_frequent(df, top_k: int, freq_col, by, column):\n",
    "    df = df[df[freq_col].isin(df[freq_col].value_counts()[:top_k].keys())]\n",
    "    df.boxplot(by=by, column=column, rot=45)\n",
    "    \n",
    "df['hour'] = df.timestamp.apply(lambda t: t.hour)\n",
    "df['day'] = df.timestamp.apply(lambda t: t.weekday())"
   ]
  },
  {
   "cell_type": "code",
   "execution_count": 409,
   "id": "71922116",
   "metadata": {},
   "outputs": [
    {
     "data": {
      "image/png": "[encoded data removed]",
      "text/plain": [
       "<Figure size 432x288 with 1 Axes>"
      ]
     },
     "metadata": {
      "needs_background": "light"
     },
     "output_type": "display_data"
    },
    {
     "data": {
      "image/png": "[encoded data removed]",
      "text/plain": [
       "<Figure size 432x288 with 1 Axes>"
      ]
     },
     "metadata": {
      "needs_background": "light"
     },
     "output_type": "display_data"
    },
    {
     "data": {
      "image/png": "[encoded data removed]",
      "text/plain": [
       "<Figure size 432x288 with 1 Axes>"
      ]
     },
     "metadata": {
      "needs_background": "light"
     },
     "output_type": "display_data"
    },
    {
     "data": {
      "image/png": "[encoded data removed]",
      "text/plain": [
       "<Figure size 432x288 with 1 Axes>"
      ]
     },
     "metadata": {
      "needs_background": "light"
     },
     "output_type": "display_data"
    },
    {
     "data": {
      "image/png": "[encoded data removed]",
      "text/plain": [
       "<Figure size 432x288 with 1 Axes>"
      ]
     },
     "metadata": {
      "needs_background": "light"
     },
     "output_type": "display_data"
    },
    {
     "data": {
      "image/png": "[encoded data removed]",
      "text/plain": [
       "<Figure size 432x288 with 1 Axes>"
      ]
     },
     "metadata": {
      "needs_background": "light"
     },
     "output_type": "display_data"
    },
    {
     "data": {
      "image/png": "[encoded data removed]",
      "text/plain": [
       "<Figure size 432x288 with 1 Axes>"
      ]
     },
     "metadata": {
      "needs_background": "light"
     },
     "output_type": "display_data"
    },
    {
     "data": {
      "image/png": "[encoded data removed]",
      "text/plain": [
       "<Figure size 432x288 with 1 Axes>"
      ]
     },
     "metadata": {
      "needs_background": "light"
     },
     "output_type": "display_data"
    },
    {
     "data": {
      "image/png": "[encoded data removed]",
      "text/plain": [
       "<Figure size 432x288 with 1 Axes>"
      ]
     },
     "metadata": {
      "needs_background": "light"
     },
     "output_type": "display_data"
    },
    {
     "data": {
      "image/png": "[encoded data removed]",
      "text/plain": [
       "<Figure size 432x288 with 1 Axes>"
      ]
     },
     "metadata": {
      "needs_background": "light"
     },
     "output_type": "display_data"
    }
   ],
   "source": [
    "for col in ['function', 'seniority', 'size', 'state', 'country']:\n",
    "    for curr_df in [df[df.success], df[~df.success]]:\n",
    "        get_boxplot_of_most_frequent(curr_df, 10, col, col, 'hour')"
   ]
  },
  {
   "cell_type": "code",
   "execution_count": null,
   "id": "3369ce39",
   "metadata": {},
   "outputs": [],
   "source": []
  }
 ],
 "metadata": {
  "kernelspec": {
   "display_name": "Python 3 (ipykernel)",
   "language": "python",
   "name": "python3"
  },
  "language_info": {
   "codemirror_mode": {
    "name": "ipython",
    "version": 3
   },
   "file_extension": ".py",
   "mimetype": "text/x-python",
   "name": "python",
   "nbconvert_exporter": "python",
   "pygments_lexer": "ipython3",
   "version": "3.8.6"
  }
 },
 "nbformat": 4,
 "nbformat_minor": 5
}
